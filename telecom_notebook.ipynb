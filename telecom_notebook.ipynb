{
 "cells": [
  {
   "cell_type": "markdown",
   "metadata": {},
   "source": [
    "## Импорт библиотек, данных"
   ]
  },
  {
   "cell_type": "code",
   "execution_count": 43,
   "metadata": {},
   "outputs": [],
   "source": [
    "import warnings\n",
    "\n",
    "import pandas as pd\n",
    "\n",
    "import re\n",
    "\n",
    "from sklearn.model_selection import train_test_split\n",
    "from sklearn.model_selection import GridSearchCV\n",
    "\n",
    "from sklearn.preprocessing import (\n",
    "    OneHotEncoder,\n",
    "    StandardScaler\n",
    ")\n",
    "from sklearn.compose import make_column_transformer\n",
    "\n",
    "from sklearn.metrics import (\n",
    "    roc_auc_score,\n",
    "    confusion_matrix,\n",
    "    roc_curve,\n",
    "    auc,\n",
    "    precision_score,\n",
    "    recall_score\n",
    ")\n",
    "\n",
    "from sklearn.ensemble import RandomForestClassifier\n",
    "\n",
    "from sklearn.linear_model import LogisticRegressionCV\n",
    "\n",
    "from catboost import CatBoostClassifier\n",
    "\n",
    "from plotly.subplots import make_subplots\n",
    "import plotly.graph_objects as go\n",
    "import plotly.express as px\n",
    "\n",
    "warnings.filterwarnings(\"ignore\")\n",
    "\n",
    "RANDOM_STATE = 30423"
   ]
  },
  {
   "cell_type": "code",
   "execution_count": 6,
   "metadata": {},
   "outputs": [],
   "source": [
    "df_contract = pd.read_csv('/datasets/contract_new.csv')\n",
    "df_internet = pd.read_csv('/datasets/internet_new.csv')\n",
    "df_personal = pd.read_csv('/datasets/personal_new.csv')\n",
    "df_phone = pd.read_csv('/datasets/phone_new.csv')"
   ]
  },
  {
   "cell_type": "markdown",
   "metadata": {},
   "source": [
    "## Исследовательский анализ данных"
   ]
  },
  {
   "cell_type": "markdown",
   "metadata": {},
   "source": [
    "Начнем анализ с первого взгляда на данные в таблицах, кроме этого, оценим общую информацию о датасетах."
   ]
  },
  {
   "cell_type": "code",
   "execution_count": 7,
   "metadata": {
    "scrolled": true
   },
   "outputs": [
    {
     "name": "stdout",
     "output_type": "stream",
     "text": [
      "Информация о договоре\n"
     ]
    },
    {
     "data": {
      "text/html": [
       "<div>\n",
       "<style scoped>\n",
       "    .dataframe tbody tr th:only-of-type {\n",
       "        vertical-align: middle;\n",
       "    }\n",
       "\n",
       "    .dataframe tbody tr th {\n",
       "        vertical-align: top;\n",
       "    }\n",
       "\n",
       "    .dataframe thead th {\n",
       "        text-align: right;\n",
       "    }\n",
       "</style>\n",
       "<table border=\"1\" class=\"dataframe\">\n",
       "  <thead>\n",
       "    <tr style=\"text-align: right;\">\n",
       "      <th></th>\n",
       "      <th>customerID</th>\n",
       "      <th>BeginDate</th>\n",
       "      <th>EndDate</th>\n",
       "      <th>Type</th>\n",
       "      <th>PaperlessBilling</th>\n",
       "      <th>PaymentMethod</th>\n",
       "      <th>MonthlyCharges</th>\n",
       "      <th>TotalCharges</th>\n",
       "    </tr>\n",
       "  </thead>\n",
       "  <tbody>\n",
       "    <tr>\n",
       "      <th>0</th>\n",
       "      <td>7590-VHVEG</td>\n",
       "      <td>2020-01-01</td>\n",
       "      <td>No</td>\n",
       "      <td>Month-to-month</td>\n",
       "      <td>Yes</td>\n",
       "      <td>Electronic check</td>\n",
       "      <td>29.85</td>\n",
       "      <td>31.04</td>\n",
       "    </tr>\n",
       "    <tr>\n",
       "      <th>1</th>\n",
       "      <td>5575-GNVDE</td>\n",
       "      <td>2017-04-01</td>\n",
       "      <td>No</td>\n",
       "      <td>One year</td>\n",
       "      <td>No</td>\n",
       "      <td>Mailed check</td>\n",
       "      <td>56.95</td>\n",
       "      <td>2071.84</td>\n",
       "    </tr>\n",
       "    <tr>\n",
       "      <th>2</th>\n",
       "      <td>3668-QPYBK</td>\n",
       "      <td>2019-10-01</td>\n",
       "      <td>No</td>\n",
       "      <td>Month-to-month</td>\n",
       "      <td>Yes</td>\n",
       "      <td>Mailed check</td>\n",
       "      <td>53.85</td>\n",
       "      <td>226.17</td>\n",
       "    </tr>\n",
       "    <tr>\n",
       "      <th>3</th>\n",
       "      <td>7795-CFOCW</td>\n",
       "      <td>2016-05-01</td>\n",
       "      <td>No</td>\n",
       "      <td>One year</td>\n",
       "      <td>No</td>\n",
       "      <td>Bank transfer (automatic)</td>\n",
       "      <td>42.30</td>\n",
       "      <td>1960.6</td>\n",
       "    </tr>\n",
       "    <tr>\n",
       "      <th>4</th>\n",
       "      <td>9237-HQITU</td>\n",
       "      <td>2019-09-01</td>\n",
       "      <td>No</td>\n",
       "      <td>Month-to-month</td>\n",
       "      <td>Yes</td>\n",
       "      <td>Electronic check</td>\n",
       "      <td>70.70</td>\n",
       "      <td>353.5</td>\n",
       "    </tr>\n",
       "  </tbody>\n",
       "</table>\n",
       "</div>"
      ],
      "text/plain": [
       "   customerID   BeginDate EndDate            Type PaperlessBilling  \\\n",
       "0  7590-VHVEG  2020-01-01      No  Month-to-month              Yes   \n",
       "1  5575-GNVDE  2017-04-01      No        One year               No   \n",
       "2  3668-QPYBK  2019-10-01      No  Month-to-month              Yes   \n",
       "3  7795-CFOCW  2016-05-01      No        One year               No   \n",
       "4  9237-HQITU  2019-09-01      No  Month-to-month              Yes   \n",
       "\n",
       "               PaymentMethod  MonthlyCharges TotalCharges  \n",
       "0           Electronic check           29.85        31.04  \n",
       "1               Mailed check           56.95      2071.84  \n",
       "2               Mailed check           53.85       226.17  \n",
       "3  Bank transfer (automatic)           42.30       1960.6  \n",
       "4           Electronic check           70.70        353.5  "
      ]
     },
     "metadata": {},
     "output_type": "display_data"
    },
    {
     "name": "stdout",
     "output_type": "stream",
     "text": [
      "<class 'pandas.core.frame.DataFrame'>\n",
      "RangeIndex: 7043 entries, 0 to 7042\n",
      "Data columns (total 8 columns):\n",
      " #   Column            Non-Null Count  Dtype  \n",
      "---  ------            --------------  -----  \n",
      " 0   customerID        7043 non-null   object \n",
      " 1   BeginDate         7043 non-null   object \n",
      " 2   EndDate           7043 non-null   object \n",
      " 3   Type              7043 non-null   object \n",
      " 4   PaperlessBilling  7043 non-null   object \n",
      " 5   PaymentMethod     7043 non-null   object \n",
      " 6   MonthlyCharges    7043 non-null   float64\n",
      " 7   TotalCharges      7043 non-null   object \n",
      "dtypes: float64(1), object(7)\n",
      "memory usage: 440.3+ KB\n",
      "****************************************************************************************************\n",
      "Информация об интернет-услугах\n"
     ]
    },
    {
     "data": {
      "text/html": [
       "<div>\n",
       "<style scoped>\n",
       "    .dataframe tbody tr th:only-of-type {\n",
       "        vertical-align: middle;\n",
       "    }\n",
       "\n",
       "    .dataframe tbody tr th {\n",
       "        vertical-align: top;\n",
       "    }\n",
       "\n",
       "    .dataframe thead th {\n",
       "        text-align: right;\n",
       "    }\n",
       "</style>\n",
       "<table border=\"1\" class=\"dataframe\">\n",
       "  <thead>\n",
       "    <tr style=\"text-align: right;\">\n",
       "      <th></th>\n",
       "      <th>customerID</th>\n",
       "      <th>InternetService</th>\n",
       "      <th>OnlineSecurity</th>\n",
       "      <th>OnlineBackup</th>\n",
       "      <th>DeviceProtection</th>\n",
       "      <th>TechSupport</th>\n",
       "      <th>StreamingTV</th>\n",
       "      <th>StreamingMovies</th>\n",
       "    </tr>\n",
       "  </thead>\n",
       "  <tbody>\n",
       "    <tr>\n",
       "      <th>0</th>\n",
       "      <td>7590-VHVEG</td>\n",
       "      <td>DSL</td>\n",
       "      <td>No</td>\n",
       "      <td>Yes</td>\n",
       "      <td>No</td>\n",
       "      <td>No</td>\n",
       "      <td>No</td>\n",
       "      <td>No</td>\n",
       "    </tr>\n",
       "    <tr>\n",
       "      <th>1</th>\n",
       "      <td>5575-GNVDE</td>\n",
       "      <td>DSL</td>\n",
       "      <td>Yes</td>\n",
       "      <td>No</td>\n",
       "      <td>Yes</td>\n",
       "      <td>No</td>\n",
       "      <td>No</td>\n",
       "      <td>No</td>\n",
       "    </tr>\n",
       "    <tr>\n",
       "      <th>2</th>\n",
       "      <td>3668-QPYBK</td>\n",
       "      <td>DSL</td>\n",
       "      <td>Yes</td>\n",
       "      <td>Yes</td>\n",
       "      <td>No</td>\n",
       "      <td>No</td>\n",
       "      <td>No</td>\n",
       "      <td>No</td>\n",
       "    </tr>\n",
       "    <tr>\n",
       "      <th>3</th>\n",
       "      <td>7795-CFOCW</td>\n",
       "      <td>DSL</td>\n",
       "      <td>Yes</td>\n",
       "      <td>No</td>\n",
       "      <td>Yes</td>\n",
       "      <td>Yes</td>\n",
       "      <td>No</td>\n",
       "      <td>No</td>\n",
       "    </tr>\n",
       "    <tr>\n",
       "      <th>4</th>\n",
       "      <td>9237-HQITU</td>\n",
       "      <td>Fiber optic</td>\n",
       "      <td>No</td>\n",
       "      <td>No</td>\n",
       "      <td>No</td>\n",
       "      <td>No</td>\n",
       "      <td>No</td>\n",
       "      <td>No</td>\n",
       "    </tr>\n",
       "  </tbody>\n",
       "</table>\n",
       "</div>"
      ],
      "text/plain": [
       "   customerID InternetService OnlineSecurity OnlineBackup DeviceProtection  \\\n",
       "0  7590-VHVEG             DSL             No          Yes               No   \n",
       "1  5575-GNVDE             DSL            Yes           No              Yes   \n",
       "2  3668-QPYBK             DSL            Yes          Yes               No   \n",
       "3  7795-CFOCW             DSL            Yes           No              Yes   \n",
       "4  9237-HQITU     Fiber optic             No           No               No   \n",
       "\n",
       "  TechSupport StreamingTV StreamingMovies  \n",
       "0          No          No              No  \n",
       "1          No          No              No  \n",
       "2          No          No              No  \n",
       "3         Yes          No              No  \n",
       "4          No          No              No  "
      ]
     },
     "metadata": {},
     "output_type": "display_data"
    },
    {
     "name": "stdout",
     "output_type": "stream",
     "text": [
      "<class 'pandas.core.frame.DataFrame'>\n",
      "RangeIndex: 5517 entries, 0 to 5516\n",
      "Data columns (total 8 columns):\n",
      " #   Column            Non-Null Count  Dtype \n",
      "---  ------            --------------  ----- \n",
      " 0   customerID        5517 non-null   object\n",
      " 1   InternetService   5517 non-null   object\n",
      " 2   OnlineSecurity    5517 non-null   object\n",
      " 3   OnlineBackup      5517 non-null   object\n",
      " 4   DeviceProtection  5517 non-null   object\n",
      " 5   TechSupport       5517 non-null   object\n",
      " 6   StreamingTV       5517 non-null   object\n",
      " 7   StreamingMovies   5517 non-null   object\n",
      "dtypes: object(8)\n",
      "memory usage: 344.9+ KB\n",
      "****************************************************************************************************\n",
      "Информация о клиенте\n"
     ]
    },
    {
     "data": {
      "text/html": [
       "<div>\n",
       "<style scoped>\n",
       "    .dataframe tbody tr th:only-of-type {\n",
       "        vertical-align: middle;\n",
       "    }\n",
       "\n",
       "    .dataframe tbody tr th {\n",
       "        vertical-align: top;\n",
       "    }\n",
       "\n",
       "    .dataframe thead th {\n",
       "        text-align: right;\n",
       "    }\n",
       "</style>\n",
       "<table border=\"1\" class=\"dataframe\">\n",
       "  <thead>\n",
       "    <tr style=\"text-align: right;\">\n",
       "      <th></th>\n",
       "      <th>customerID</th>\n",
       "      <th>gender</th>\n",
       "      <th>SeniorCitizen</th>\n",
       "      <th>Partner</th>\n",
       "      <th>Dependents</th>\n",
       "    </tr>\n",
       "  </thead>\n",
       "  <tbody>\n",
       "    <tr>\n",
       "      <th>0</th>\n",
       "      <td>7590-VHVEG</td>\n",
       "      <td>Female</td>\n",
       "      <td>0</td>\n",
       "      <td>Yes</td>\n",
       "      <td>No</td>\n",
       "    </tr>\n",
       "    <tr>\n",
       "      <th>1</th>\n",
       "      <td>5575-GNVDE</td>\n",
       "      <td>Male</td>\n",
       "      <td>0</td>\n",
       "      <td>No</td>\n",
       "      <td>No</td>\n",
       "    </tr>\n",
       "    <tr>\n",
       "      <th>2</th>\n",
       "      <td>3668-QPYBK</td>\n",
       "      <td>Male</td>\n",
       "      <td>0</td>\n",
       "      <td>No</td>\n",
       "      <td>No</td>\n",
       "    </tr>\n",
       "    <tr>\n",
       "      <th>3</th>\n",
       "      <td>7795-CFOCW</td>\n",
       "      <td>Male</td>\n",
       "      <td>0</td>\n",
       "      <td>No</td>\n",
       "      <td>No</td>\n",
       "    </tr>\n",
       "    <tr>\n",
       "      <th>4</th>\n",
       "      <td>9237-HQITU</td>\n",
       "      <td>Female</td>\n",
       "      <td>0</td>\n",
       "      <td>No</td>\n",
       "      <td>No</td>\n",
       "    </tr>\n",
       "  </tbody>\n",
       "</table>\n",
       "</div>"
      ],
      "text/plain": [
       "   customerID  gender  SeniorCitizen Partner Dependents\n",
       "0  7590-VHVEG  Female              0     Yes         No\n",
       "1  5575-GNVDE    Male              0      No         No\n",
       "2  3668-QPYBK    Male              0      No         No\n",
       "3  7795-CFOCW    Male              0      No         No\n",
       "4  9237-HQITU  Female              0      No         No"
      ]
     },
     "metadata": {},
     "output_type": "display_data"
    },
    {
     "name": "stdout",
     "output_type": "stream",
     "text": [
      "<class 'pandas.core.frame.DataFrame'>\n",
      "RangeIndex: 7043 entries, 0 to 7042\n",
      "Data columns (total 5 columns):\n",
      " #   Column         Non-Null Count  Dtype \n",
      "---  ------         --------------  ----- \n",
      " 0   customerID     7043 non-null   object\n",
      " 1   gender         7043 non-null   object\n",
      " 2   SeniorCitizen  7043 non-null   int64 \n",
      " 3   Partner        7043 non-null   object\n",
      " 4   Dependents     7043 non-null   object\n",
      "dtypes: int64(1), object(4)\n",
      "memory usage: 275.2+ KB\n",
      "****************************************************************************************************\n",
      "Информация об услугах телефонии:\n"
     ]
    },
    {
     "data": {
      "text/html": [
       "<div>\n",
       "<style scoped>\n",
       "    .dataframe tbody tr th:only-of-type {\n",
       "        vertical-align: middle;\n",
       "    }\n",
       "\n",
       "    .dataframe tbody tr th {\n",
       "        vertical-align: top;\n",
       "    }\n",
       "\n",
       "    .dataframe thead th {\n",
       "        text-align: right;\n",
       "    }\n",
       "</style>\n",
       "<table border=\"1\" class=\"dataframe\">\n",
       "  <thead>\n",
       "    <tr style=\"text-align: right;\">\n",
       "      <th></th>\n",
       "      <th>customerID</th>\n",
       "      <th>MultipleLines</th>\n",
       "    </tr>\n",
       "  </thead>\n",
       "  <tbody>\n",
       "    <tr>\n",
       "      <th>0</th>\n",
       "      <td>5575-GNVDE</td>\n",
       "      <td>No</td>\n",
       "    </tr>\n",
       "    <tr>\n",
       "      <th>1</th>\n",
       "      <td>3668-QPYBK</td>\n",
       "      <td>No</td>\n",
       "    </tr>\n",
       "    <tr>\n",
       "      <th>2</th>\n",
       "      <td>9237-HQITU</td>\n",
       "      <td>No</td>\n",
       "    </tr>\n",
       "    <tr>\n",
       "      <th>3</th>\n",
       "      <td>9305-CDSKC</td>\n",
       "      <td>Yes</td>\n",
       "    </tr>\n",
       "    <tr>\n",
       "      <th>4</th>\n",
       "      <td>1452-KIOVK</td>\n",
       "      <td>Yes</td>\n",
       "    </tr>\n",
       "  </tbody>\n",
       "</table>\n",
       "</div>"
      ],
      "text/plain": [
       "   customerID MultipleLines\n",
       "0  5575-GNVDE            No\n",
       "1  3668-QPYBK            No\n",
       "2  9237-HQITU            No\n",
       "3  9305-CDSKC           Yes\n",
       "4  1452-KIOVK           Yes"
      ]
     },
     "metadata": {},
     "output_type": "display_data"
    },
    {
     "name": "stdout",
     "output_type": "stream",
     "text": [
      "<class 'pandas.core.frame.DataFrame'>\n",
      "RangeIndex: 6361 entries, 0 to 6360\n",
      "Data columns (total 2 columns):\n",
      " #   Column         Non-Null Count  Dtype \n",
      "---  ------         --------------  ----- \n",
      " 0   customerID     6361 non-null   object\n",
      " 1   MultipleLines  6361 non-null   object\n",
      "dtypes: object(2)\n",
      "memory usage: 99.5+ KB\n"
     ]
    }
   ],
   "source": [
    "print('Информация о договоре')\n",
    "display(df_contract.head())\n",
    "df_contract.info()\n",
    "print('*'*100)\n",
    "\n",
    "print('Информация об интернет-услугах')\n",
    "display(df_internet.head())\n",
    "df_internet.info()\n",
    "print('*'*100)\n",
    "\n",
    "print('Информация о клиенте')\n",
    "display(df_personal.head())\n",
    "df_personal.info()\n",
    "print('*'*100)\n",
    "\n",
    "print('Информация об услугах телефонии:')\n",
    "display(df_phone.head())\n",
    "df_phone.info()"
   ]
  },
  {
   "cell_type": "markdown",
   "metadata": {},
   "source": [
    "Сразу можно выделить несколько вещей:\n",
    "* Названия столбцов не стандартизированы.\n",
    "* Строчек в `df_internet` и `df_phone` меньше, чем в `df_contract` и `df_personal`.\n",
    "* Данных сравнительно немного (7043 объектов).\n",
    "* Явных пропусков в столбцах нет.\n",
    "* Некоторые столбцы имеют неподходящие типы данных."
   ]
  },
  {
   "cell_type": "markdown",
   "metadata": {},
   "source": [
    "Для удобства сразу приведем названия столбцов к snake_case. Для этого воспользуемся регулярными выражениями и библиотекой `re`."
   ]
  },
  {
   "cell_type": "code",
   "execution_count": 8,
   "metadata": {},
   "outputs": [],
   "source": [
    "df_contract = df_contract.rename(columns=lambda x: re.sub('(?!^)([A-Z]+)', r'_\\1', x).lower())\n",
    "df_internet = df_internet.rename(columns=lambda x: re.sub('(?!^)([A-Z]+)', r'_\\1', x).lower())\n",
    "df_personal = df_personal.rename(columns=lambda x: re.sub('(?!^)([A-Z]+)', r'_\\1', x).lower())\n",
    "df_phone = df_phone.rename(columns=lambda x: re.sub('(?!^)([A-Z]+)', r'_\\1', x).lower())"
   ]
  },
  {
   "cell_type": "markdown",
   "metadata": {},
   "source": [
    "Оценим информацию в каждой таблице отдельно."
   ]
  },
  {
   "cell_type": "code",
   "execution_count": 9,
   "metadata": {},
   "outputs": [],
   "source": [
    "def data_info(df):\n",
    "    print('Полных дублей в таблице:', df.duplicated().sum())\n",
    "    for col in df.columns:\n",
    "        print(f'Уникальные значения в поле {col}:')\n",
    "        print(df[col].unique())"
   ]
  },
  {
   "cell_type": "markdown",
   "metadata": {},
   "source": [
    "### df_contract"
   ]
  },
  {
   "cell_type": "code",
   "execution_count": 10,
   "metadata": {},
   "outputs": [
    {
     "name": "stdout",
     "output_type": "stream",
     "text": [
      "Полных дублей в таблице: 0\n",
      "Уникальные значения в поле customer_id:\n",
      "['7590-VHVEG' '5575-GNVDE' '3668-QPYBK' ... '4801-JZAZL' '8361-LTMKD'\n",
      " '3186-AJIEK']\n",
      "Уникальные значения в поле begin_date:\n",
      "['2020-01-01' '2017-04-01' '2019-10-01' '2016-05-01' '2019-09-01'\n",
      " '2019-03-01' '2018-04-01' '2019-04-01' '2017-07-01' '2014-12-01'\n",
      " '2019-01-01' '2018-10-01' '2015-04-01' '2015-09-01' '2018-01-01'\n",
      " '2014-05-01' '2015-10-01' '2014-03-01' '2018-05-01' '2019-11-01'\n",
      " '2019-02-01' '2016-01-01' '2017-08-01' '2015-12-01' '2014-02-01'\n",
      " '2018-06-01' '2019-12-01' '2017-11-01' '2019-06-01' '2016-04-01'\n",
      " '2017-02-01' '2018-12-01' '2014-04-01' '2018-09-01' '2014-11-01'\n",
      " '2016-07-01' '2015-02-01' '2018-07-01' '2014-08-01' '2016-03-01'\n",
      " '2018-08-01' '2014-10-01' '2015-06-01' '2016-08-01' '2019-05-01'\n",
      " '2017-03-01' '2016-02-01' '2017-09-01' '2014-09-01' '2017-12-01'\n",
      " '2016-12-01' '2017-06-01' '2015-05-01' '2016-10-01' '2016-09-01'\n",
      " '2019-08-01' '2019-07-01' '2017-05-01' '2017-10-01' '2014-07-01'\n",
      " '2018-03-01' '2015-01-01' '2018-11-01' '2015-03-01' '2018-02-01'\n",
      " '2016-06-01' '2015-08-01' '2015-11-01' '2014-06-01' '2017-01-01'\n",
      " '2015-07-01' '2020-02-01' '2016-11-01' '2013-11-01' '2014-01-01'\n",
      " '2013-10-01' '2013-12-01']\n",
      "Уникальные значения в поле end_date:\n",
      "['No' '2017-05-01' '2016-03-01' '2018-09-01' '2018-11-01' '2018-12-01'\n",
      " '2019-08-01' '2018-07-01' '2017-09-01' '2015-09-01' '2016-07-01'\n",
      " '2016-06-01' '2018-03-01' '2019-02-01' '2018-06-01' '2019-06-01'\n",
      " '2020-01-01' '2019-11-01' '2016-09-01' '2015-06-01' '2016-12-01'\n",
      " '2019-05-01' '2019-04-01' '2017-06-01' '2017-08-01' '2018-04-01'\n",
      " '2018-08-01' '2018-02-01' '2019-07-01' '2015-12-01' '2014-06-01'\n",
      " '2018-10-01' '2019-01-01' '2017-07-01' '2017-12-01' '2018-05-01'\n",
      " '2015-11-01' '2019-10-01' '2019-03-01' '2016-02-01' '2016-10-01'\n",
      " '2018-01-01' '2017-11-01' '2015-10-01' '2019-12-01' '2015-07-01'\n",
      " '2017-04-01' '2015-02-01' '2017-03-01' '2016-05-01' '2016-11-01'\n",
      " '2015-08-01' '2019-09-01' '2017-10-01' '2017-02-01' '2016-08-01'\n",
      " '2016-04-01' '2015-05-01' '2014-09-01' '2014-10-01' '2017-01-01'\n",
      " '2015-03-01' '2015-01-01' '2016-01-01' '2015-04-01' '2014-12-01'\n",
      " '2014-11-01']\n",
      "Уникальные значения в поле type:\n",
      "['Month-to-month' 'One year' 'Two year']\n",
      "Уникальные значения в поле paperless_billing:\n",
      "['Yes' 'No']\n",
      "Уникальные значения в поле payment_method:\n",
      "['Electronic check' 'Mailed check' 'Bank transfer (automatic)'\n",
      " 'Credit card (automatic)']\n",
      "Уникальные значения в поле monthly_charges:\n",
      "[29.85 56.95 53.85 ... 63.1  44.2  78.7 ]\n",
      "Уникальные значения в поле total_charges:\n",
      "['31.04' '2071.84' '226.17' ... '325.6' '520.8' '7251.82']\n"
     ]
    }
   ],
   "source": [
    "data_info(df_contract)"
   ]
  },
  {
   "cell_type": "markdown",
   "metadata": {},
   "source": [
    "### df_internet"
   ]
  },
  {
   "cell_type": "code",
   "execution_count": 11,
   "metadata": {},
   "outputs": [
    {
     "name": "stdout",
     "output_type": "stream",
     "text": [
      "Полных дублей в таблице: 0\n",
      "Уникальные значения в поле customer_id:\n",
      "['7590-VHVEG' '5575-GNVDE' '3668-QPYBK' ... '4801-JZAZL' '8361-LTMKD'\n",
      " '3186-AJIEK']\n",
      "Уникальные значения в поле internet_service:\n",
      "['DSL' 'Fiber optic']\n",
      "Уникальные значения в поле online_security:\n",
      "['No' 'Yes']\n",
      "Уникальные значения в поле online_backup:\n",
      "['Yes' 'No']\n",
      "Уникальные значения в поле device_protection:\n",
      "['No' 'Yes']\n",
      "Уникальные значения в поле tech_support:\n",
      "['No' 'Yes']\n",
      "Уникальные значения в поле streaming_tv:\n",
      "['No' 'Yes']\n",
      "Уникальные значения в поле streaming_movies:\n",
      "['No' 'Yes']\n"
     ]
    }
   ],
   "source": [
    "data_info(df_internet)"
   ]
  },
  {
   "cell_type": "markdown",
   "metadata": {},
   "source": [
    "### df_personal"
   ]
  },
  {
   "cell_type": "code",
   "execution_count": 12,
   "metadata": {},
   "outputs": [
    {
     "name": "stdout",
     "output_type": "stream",
     "text": [
      "Полных дублей в таблице: 0\n",
      "Уникальные значения в поле customer_id:\n",
      "['7590-VHVEG' '5575-GNVDE' '3668-QPYBK' ... '4801-JZAZL' '8361-LTMKD'\n",
      " '3186-AJIEK']\n",
      "Уникальные значения в поле gender:\n",
      "['Female' 'Male']\n",
      "Уникальные значения в поле senior_citizen:\n",
      "[0 1]\n",
      "Уникальные значения в поле partner:\n",
      "['Yes' 'No']\n",
      "Уникальные значения в поле dependents:\n",
      "['No' 'Yes']\n"
     ]
    }
   ],
   "source": [
    "data_info(df_personal)"
   ]
  },
  {
   "cell_type": "markdown",
   "metadata": {},
   "source": [
    "### df_phone"
   ]
  },
  {
   "cell_type": "code",
   "execution_count": 13,
   "metadata": {},
   "outputs": [
    {
     "name": "stdout",
     "output_type": "stream",
     "text": [
      "Полных дублей в таблице: 0\n",
      "Уникальные значения в поле customer_id:\n",
      "['5575-GNVDE' '3668-QPYBK' '9237-HQITU' ... '2234-XADUH' '8361-LTMKD'\n",
      " '3186-AJIEK']\n",
      "Уникальные значения в поле multiple_lines:\n",
      "['No' 'Yes']\n"
     ]
    }
   ],
   "source": [
    "data_info(df_phone)"
   ]
  },
  {
   "cell_type": "markdown",
   "metadata": {},
   "source": [
    "Анализ данных позволяет сделать следующие выводы:\n",
    "* В данных отсутствуют дубликаты объектов.\n",
    "* Присутствуют пропуски, связанные со слиянием датасетов.\n",
    "* В категориальных фичах отсутствуют нелогичные значения\n",
    "* Перед применением алгоритмов ML требуется обработать данные (заполнение пропусков, приведение к соответствующим типам данных)."
   ]
  },
  {
   "cell_type": "markdown",
   "metadata": {},
   "source": [
    "Для дальнейшего анализа будет удобнее объединить датафреймы в один, чтобы можно было охватить все данные сразу. Объединим таблицы по `customer_id`."
   ]
  },
  {
   "cell_type": "code",
   "execution_count": 14,
   "metadata": {},
   "outputs": [],
   "source": [
    "df_all = df_contract.merge(df_internet, how='left', on='customer_id')\n",
    "df_all = df_all.merge(df_personal, how='left', on='customer_id')\n",
    "df_all = df_all.merge(df_phone, how='left', on='customer_id')\n",
    "\n",
    "# сохраним изначальное количество записей, чтобы посчитать потери после обработки данных\n",
    "rows_cnt_before = df_all.shape[0]"
   ]
  },
  {
   "cell_type": "markdown",
   "metadata": {},
   "source": [
    "При последующем переводе поля `total charges` к типу `datetime` обнаружились некорректные пустые строковые значения. Рассмотрим их. Видим, что эти клиенты заключили договор в феврале 2020 года, когда как раз и были выгружены данные, поэтому общая сумма оплаты отсутствует."
   ]
  },
  {
   "cell_type": "code",
   "execution_count": 15,
   "metadata": {},
   "outputs": [
    {
     "data": {
      "text/html": [
       "<div>\n",
       "<style scoped>\n",
       "    .dataframe tbody tr th:only-of-type {\n",
       "        vertical-align: middle;\n",
       "    }\n",
       "\n",
       "    .dataframe tbody tr th {\n",
       "        vertical-align: top;\n",
       "    }\n",
       "\n",
       "    .dataframe thead th {\n",
       "        text-align: right;\n",
       "    }\n",
       "</style>\n",
       "<table border=\"1\" class=\"dataframe\">\n",
       "  <thead>\n",
       "    <tr style=\"text-align: right;\">\n",
       "      <th></th>\n",
       "      <th>customer_id</th>\n",
       "      <th>begin_date</th>\n",
       "      <th>end_date</th>\n",
       "      <th>type</th>\n",
       "      <th>paperless_billing</th>\n",
       "      <th>payment_method</th>\n",
       "      <th>monthly_charges</th>\n",
       "      <th>total_charges</th>\n",
       "      <th>internet_service</th>\n",
       "      <th>online_security</th>\n",
       "      <th>online_backup</th>\n",
       "      <th>device_protection</th>\n",
       "      <th>tech_support</th>\n",
       "      <th>streaming_tv</th>\n",
       "      <th>streaming_movies</th>\n",
       "      <th>gender</th>\n",
       "      <th>senior_citizen</th>\n",
       "      <th>partner</th>\n",
       "      <th>dependents</th>\n",
       "      <th>multiple_lines</th>\n",
       "    </tr>\n",
       "  </thead>\n",
       "  <tbody>\n",
       "    <tr>\n",
       "      <th>488</th>\n",
       "      <td>4472-LVYGI</td>\n",
       "      <td>2020-02-01</td>\n",
       "      <td>No</td>\n",
       "      <td>Two year</td>\n",
       "      <td>Yes</td>\n",
       "      <td>Bank transfer (automatic)</td>\n",
       "      <td>52.55</td>\n",
       "      <td></td>\n",
       "      <td>DSL</td>\n",
       "      <td>Yes</td>\n",
       "      <td>No</td>\n",
       "      <td>Yes</td>\n",
       "      <td>Yes</td>\n",
       "      <td>Yes</td>\n",
       "      <td>No</td>\n",
       "      <td>Female</td>\n",
       "      <td>0</td>\n",
       "      <td>Yes</td>\n",
       "      <td>Yes</td>\n",
       "      <td>NaN</td>\n",
       "    </tr>\n",
       "    <tr>\n",
       "      <th>753</th>\n",
       "      <td>3115-CZMZD</td>\n",
       "      <td>2020-02-01</td>\n",
       "      <td>No</td>\n",
       "      <td>Two year</td>\n",
       "      <td>No</td>\n",
       "      <td>Mailed check</td>\n",
       "      <td>20.25</td>\n",
       "      <td></td>\n",
       "      <td>NaN</td>\n",
       "      <td>NaN</td>\n",
       "      <td>NaN</td>\n",
       "      <td>NaN</td>\n",
       "      <td>NaN</td>\n",
       "      <td>NaN</td>\n",
       "      <td>NaN</td>\n",
       "      <td>Male</td>\n",
       "      <td>0</td>\n",
       "      <td>No</td>\n",
       "      <td>Yes</td>\n",
       "      <td>No</td>\n",
       "    </tr>\n",
       "    <tr>\n",
       "      <th>936</th>\n",
       "      <td>5709-LVOEQ</td>\n",
       "      <td>2020-02-01</td>\n",
       "      <td>No</td>\n",
       "      <td>Two year</td>\n",
       "      <td>No</td>\n",
       "      <td>Mailed check</td>\n",
       "      <td>80.85</td>\n",
       "      <td></td>\n",
       "      <td>DSL</td>\n",
       "      <td>Yes</td>\n",
       "      <td>Yes</td>\n",
       "      <td>Yes</td>\n",
       "      <td>No</td>\n",
       "      <td>Yes</td>\n",
       "      <td>Yes</td>\n",
       "      <td>Female</td>\n",
       "      <td>0</td>\n",
       "      <td>Yes</td>\n",
       "      <td>Yes</td>\n",
       "      <td>No</td>\n",
       "    </tr>\n",
       "    <tr>\n",
       "      <th>1082</th>\n",
       "      <td>4367-NUYAO</td>\n",
       "      <td>2020-02-01</td>\n",
       "      <td>No</td>\n",
       "      <td>Two year</td>\n",
       "      <td>No</td>\n",
       "      <td>Mailed check</td>\n",
       "      <td>25.75</td>\n",
       "      <td></td>\n",
       "      <td>NaN</td>\n",
       "      <td>NaN</td>\n",
       "      <td>NaN</td>\n",
       "      <td>NaN</td>\n",
       "      <td>NaN</td>\n",
       "      <td>NaN</td>\n",
       "      <td>NaN</td>\n",
       "      <td>Male</td>\n",
       "      <td>0</td>\n",
       "      <td>Yes</td>\n",
       "      <td>Yes</td>\n",
       "      <td>Yes</td>\n",
       "    </tr>\n",
       "    <tr>\n",
       "      <th>1340</th>\n",
       "      <td>1371-DWPAZ</td>\n",
       "      <td>2020-02-01</td>\n",
       "      <td>No</td>\n",
       "      <td>Two year</td>\n",
       "      <td>No</td>\n",
       "      <td>Credit card (automatic)</td>\n",
       "      <td>56.05</td>\n",
       "      <td></td>\n",
       "      <td>DSL</td>\n",
       "      <td>Yes</td>\n",
       "      <td>Yes</td>\n",
       "      <td>Yes</td>\n",
       "      <td>Yes</td>\n",
       "      <td>Yes</td>\n",
       "      <td>No</td>\n",
       "      <td>Female</td>\n",
       "      <td>0</td>\n",
       "      <td>Yes</td>\n",
       "      <td>Yes</td>\n",
       "      <td>NaN</td>\n",
       "    </tr>\n",
       "    <tr>\n",
       "      <th>3331</th>\n",
       "      <td>7644-OMVMY</td>\n",
       "      <td>2020-02-01</td>\n",
       "      <td>No</td>\n",
       "      <td>Two year</td>\n",
       "      <td>No</td>\n",
       "      <td>Mailed check</td>\n",
       "      <td>19.85</td>\n",
       "      <td></td>\n",
       "      <td>NaN</td>\n",
       "      <td>NaN</td>\n",
       "      <td>NaN</td>\n",
       "      <td>NaN</td>\n",
       "      <td>NaN</td>\n",
       "      <td>NaN</td>\n",
       "      <td>NaN</td>\n",
       "      <td>Male</td>\n",
       "      <td>0</td>\n",
       "      <td>Yes</td>\n",
       "      <td>Yes</td>\n",
       "      <td>No</td>\n",
       "    </tr>\n",
       "    <tr>\n",
       "      <th>3826</th>\n",
       "      <td>3213-VVOLG</td>\n",
       "      <td>2020-02-01</td>\n",
       "      <td>No</td>\n",
       "      <td>Two year</td>\n",
       "      <td>No</td>\n",
       "      <td>Mailed check</td>\n",
       "      <td>25.35</td>\n",
       "      <td></td>\n",
       "      <td>NaN</td>\n",
       "      <td>NaN</td>\n",
       "      <td>NaN</td>\n",
       "      <td>NaN</td>\n",
       "      <td>NaN</td>\n",
       "      <td>NaN</td>\n",
       "      <td>NaN</td>\n",
       "      <td>Male</td>\n",
       "      <td>0</td>\n",
       "      <td>Yes</td>\n",
       "      <td>Yes</td>\n",
       "      <td>Yes</td>\n",
       "    </tr>\n",
       "    <tr>\n",
       "      <th>4380</th>\n",
       "      <td>2520-SGTTA</td>\n",
       "      <td>2020-02-01</td>\n",
       "      <td>No</td>\n",
       "      <td>Two year</td>\n",
       "      <td>No</td>\n",
       "      <td>Mailed check</td>\n",
       "      <td>20.00</td>\n",
       "      <td></td>\n",
       "      <td>NaN</td>\n",
       "      <td>NaN</td>\n",
       "      <td>NaN</td>\n",
       "      <td>NaN</td>\n",
       "      <td>NaN</td>\n",
       "      <td>NaN</td>\n",
       "      <td>NaN</td>\n",
       "      <td>Female</td>\n",
       "      <td>0</td>\n",
       "      <td>Yes</td>\n",
       "      <td>Yes</td>\n",
       "      <td>No</td>\n",
       "    </tr>\n",
       "    <tr>\n",
       "      <th>5218</th>\n",
       "      <td>2923-ARZLG</td>\n",
       "      <td>2020-02-01</td>\n",
       "      <td>No</td>\n",
       "      <td>One year</td>\n",
       "      <td>Yes</td>\n",
       "      <td>Mailed check</td>\n",
       "      <td>19.70</td>\n",
       "      <td></td>\n",
       "      <td>NaN</td>\n",
       "      <td>NaN</td>\n",
       "      <td>NaN</td>\n",
       "      <td>NaN</td>\n",
       "      <td>NaN</td>\n",
       "      <td>NaN</td>\n",
       "      <td>NaN</td>\n",
       "      <td>Male</td>\n",
       "      <td>0</td>\n",
       "      <td>Yes</td>\n",
       "      <td>Yes</td>\n",
       "      <td>No</td>\n",
       "    </tr>\n",
       "    <tr>\n",
       "      <th>6670</th>\n",
       "      <td>4075-WKNIU</td>\n",
       "      <td>2020-02-01</td>\n",
       "      <td>No</td>\n",
       "      <td>Two year</td>\n",
       "      <td>No</td>\n",
       "      <td>Mailed check</td>\n",
       "      <td>73.35</td>\n",
       "      <td></td>\n",
       "      <td>DSL</td>\n",
       "      <td>No</td>\n",
       "      <td>Yes</td>\n",
       "      <td>Yes</td>\n",
       "      <td>Yes</td>\n",
       "      <td>Yes</td>\n",
       "      <td>No</td>\n",
       "      <td>Female</td>\n",
       "      <td>0</td>\n",
       "      <td>Yes</td>\n",
       "      <td>Yes</td>\n",
       "      <td>Yes</td>\n",
       "    </tr>\n",
       "    <tr>\n",
       "      <th>6754</th>\n",
       "      <td>2775-SEFEE</td>\n",
       "      <td>2020-02-01</td>\n",
       "      <td>No</td>\n",
       "      <td>Two year</td>\n",
       "      <td>Yes</td>\n",
       "      <td>Bank transfer (automatic)</td>\n",
       "      <td>61.90</td>\n",
       "      <td></td>\n",
       "      <td>DSL</td>\n",
       "      <td>Yes</td>\n",
       "      <td>Yes</td>\n",
       "      <td>No</td>\n",
       "      <td>Yes</td>\n",
       "      <td>No</td>\n",
       "      <td>No</td>\n",
       "      <td>Male</td>\n",
       "      <td>0</td>\n",
       "      <td>No</td>\n",
       "      <td>Yes</td>\n",
       "      <td>Yes</td>\n",
       "    </tr>\n",
       "  </tbody>\n",
       "</table>\n",
       "</div>"
      ],
      "text/plain": [
       "     customer_id  begin_date end_date      type paperless_billing  \\\n",
       "488   4472-LVYGI  2020-02-01       No  Two year               Yes   \n",
       "753   3115-CZMZD  2020-02-01       No  Two year                No   \n",
       "936   5709-LVOEQ  2020-02-01       No  Two year                No   \n",
       "1082  4367-NUYAO  2020-02-01       No  Two year                No   \n",
       "1340  1371-DWPAZ  2020-02-01       No  Two year                No   \n",
       "3331  7644-OMVMY  2020-02-01       No  Two year                No   \n",
       "3826  3213-VVOLG  2020-02-01       No  Two year                No   \n",
       "4380  2520-SGTTA  2020-02-01       No  Two year                No   \n",
       "5218  2923-ARZLG  2020-02-01       No  One year               Yes   \n",
       "6670  4075-WKNIU  2020-02-01       No  Two year                No   \n",
       "6754  2775-SEFEE  2020-02-01       No  Two year               Yes   \n",
       "\n",
       "                 payment_method  monthly_charges total_charges  \\\n",
       "488   Bank transfer (automatic)            52.55                 \n",
       "753                Mailed check            20.25                 \n",
       "936                Mailed check            80.85                 \n",
       "1082               Mailed check            25.75                 \n",
       "1340    Credit card (automatic)            56.05                 \n",
       "3331               Mailed check            19.85                 \n",
       "3826               Mailed check            25.35                 \n",
       "4380               Mailed check            20.00                 \n",
       "5218               Mailed check            19.70                 \n",
       "6670               Mailed check            73.35                 \n",
       "6754  Bank transfer (automatic)            61.90                 \n",
       "\n",
       "     internet_service online_security online_backup device_protection  \\\n",
       "488               DSL             Yes            No               Yes   \n",
       "753               NaN             NaN           NaN               NaN   \n",
       "936               DSL             Yes           Yes               Yes   \n",
       "1082              NaN             NaN           NaN               NaN   \n",
       "1340              DSL             Yes           Yes               Yes   \n",
       "3331              NaN             NaN           NaN               NaN   \n",
       "3826              NaN             NaN           NaN               NaN   \n",
       "4380              NaN             NaN           NaN               NaN   \n",
       "5218              NaN             NaN           NaN               NaN   \n",
       "6670              DSL              No           Yes               Yes   \n",
       "6754              DSL             Yes           Yes                No   \n",
       "\n",
       "     tech_support streaming_tv streaming_movies  gender  senior_citizen  \\\n",
       "488           Yes          Yes               No  Female               0   \n",
       "753           NaN          NaN              NaN    Male               0   \n",
       "936            No          Yes              Yes  Female               0   \n",
       "1082          NaN          NaN              NaN    Male               0   \n",
       "1340          Yes          Yes               No  Female               0   \n",
       "3331          NaN          NaN              NaN    Male               0   \n",
       "3826          NaN          NaN              NaN    Male               0   \n",
       "4380          NaN          NaN              NaN  Female               0   \n",
       "5218          NaN          NaN              NaN    Male               0   \n",
       "6670          Yes          Yes               No  Female               0   \n",
       "6754          Yes           No               No    Male               0   \n",
       "\n",
       "     partner dependents multiple_lines  \n",
       "488      Yes        Yes            NaN  \n",
       "753       No        Yes             No  \n",
       "936      Yes        Yes             No  \n",
       "1082     Yes        Yes            Yes  \n",
       "1340     Yes        Yes            NaN  \n",
       "3331     Yes        Yes             No  \n",
       "3826     Yes        Yes            Yes  \n",
       "4380     Yes        Yes             No  \n",
       "5218     Yes        Yes             No  \n",
       "6670     Yes        Yes            Yes  \n",
       "6754      No        Yes            Yes  "
      ]
     },
     "execution_count": 15,
     "metadata": {},
     "output_type": "execute_result"
    }
   ],
   "source": [
    "df_all[df_all['total_charges']==' ']"
   ]
  },
  {
   "cell_type": "markdown",
   "metadata": {},
   "source": [
    "Так как у нас всего 11 подобных объектов, мы можем их удалить без ущерба для общего датасета."
   ]
  },
  {
   "cell_type": "code",
   "execution_count": 16,
   "metadata": {},
   "outputs": [],
   "source": [
    "df_all = df_all[df_all['total_charges'] != ' ']"
   ]
  },
  {
   "cell_type": "markdown",
   "metadata": {},
   "source": [
    "Изменим типы данных в столбцах на более подходящие. "
   ]
  },
  {
   "cell_type": "code",
   "execution_count": 17,
   "metadata": {},
   "outputs": [],
   "source": [
    "df_all['begin_date'] = pd.to_datetime(df_all['begin_date'], format='%Y-%m-%d')\n",
    "df_all['total_charges'] = df_all['total_charges'].astype('float64')\n",
    "\n",
    "#Если клиент еще не ушел, это отображается как 'No'. Заменим это значение на дату, когда извлекали данные.\n",
    "df_all['end_date'] = df_all['end_date'].replace({'No':'2020-02-01'})\n",
    "df_all['end_date'] = pd.to_datetime(df_all['end_date'], format='%Y-%m-%d')"
   ]
  },
  {
   "cell_type": "markdown",
   "metadata": {},
   "source": [
    "Столбец, содержащий данные о целевом признаке, - `end_date`, так как мы хотим предсказать уйдет клиент в ближайшее время или нет. Для того, чтобы отделить активных от ушедших, добавим новое поле `is_active`, содержащий булевый тип."
   ]
  },
  {
   "cell_type": "code",
   "execution_count": 18,
   "metadata": {},
   "outputs": [],
   "source": [
    "df_all['is_active'] = df_all.apply(lambda x: 1 if x['end_date'] == pd.to_datetime('2020-02-01') else 0, axis=1)"
   ]
  },
  {
   "cell_type": "markdown",
   "metadata": {},
   "source": [
    "Добавим новое поле, отображающее сколько дней пользователь является или являлся абонентом. "
   ]
  },
  {
   "cell_type": "code",
   "execution_count": 19,
   "metadata": {},
   "outputs": [],
   "source": [
    "#Cоздаем столбец простым вычитанием.\n",
    "df_all['days_active'] = (df_all['end_date'] - df_all['begin_date']).dt.days"
   ]
  },
  {
   "cell_type": "markdown",
   "metadata": {},
   "source": [
    "Также разделим пользователей на использующих интернет-услуги и использующих услуги телефонии. Логично предположить, что отсутствие данных о клиенте в соответствующих таблицах говорит нам о том, что клиент не пользуется данными услугами. Добавим столбцы `phone_user` и `internet_user`, отражающие эту информацию."
   ]
  },
  {
   "cell_type": "code",
   "execution_count": 20,
   "metadata": {},
   "outputs": [],
   "source": [
    "df_all['internet_user'] = df_all.apply(lambda x: 0 if x['internet_service'] != x['internet_service'] else 1, axis=1)\n",
    "df_all['phone_user'] = df_all.apply(lambda x: 0 if x['multiple_lines'] != x['multiple_lines'] else 1, axis=1)"
   ]
  },
  {
   "cell_type": "markdown",
   "metadata": {},
   "source": [
    "Теперь можем заполнить пропуски значениями `False`. Для пропусков в `internet_service` выделим отдельную категорию `not_user`."
   ]
  },
  {
   "cell_type": "code",
   "execution_count": 21,
   "metadata": {},
   "outputs": [],
   "source": [
    "df_all['internet_service'] = df_all['internet_service'].fillna('not_user')\n",
    "df_all = df_all.fillna('No')"
   ]
  },
  {
   "cell_type": "markdown",
   "metadata": {},
   "source": [
    "Снова проверим подчищенные и дополненные данные."
   ]
  },
  {
   "cell_type": "code",
   "execution_count": 22,
   "metadata": {},
   "outputs": [
    {
     "name": "stdout",
     "output_type": "stream",
     "text": [
      "Полных дублей в таблице: 0\n",
      "Уникальные значения в поле customer_id:\n",
      "['7590-VHVEG' '5575-GNVDE' '3668-QPYBK' ... '4801-JZAZL' '8361-LTMKD'\n",
      " '3186-AJIEK']\n",
      "Уникальные значения в поле begin_date:\n",
      "<DatetimeArray>\n",
      "['2020-01-01 00:00:00', '2017-04-01 00:00:00', '2019-10-01 00:00:00',\n",
      " '2016-05-01 00:00:00', '2019-09-01 00:00:00', '2019-03-01 00:00:00',\n",
      " '2018-04-01 00:00:00', '2019-04-01 00:00:00', '2017-07-01 00:00:00',\n",
      " '2014-12-01 00:00:00', '2019-01-01 00:00:00', '2018-10-01 00:00:00',\n",
      " '2015-04-01 00:00:00', '2015-09-01 00:00:00', '2018-01-01 00:00:00',\n",
      " '2014-05-01 00:00:00', '2015-10-01 00:00:00', '2014-03-01 00:00:00',\n",
      " '2018-05-01 00:00:00', '2019-11-01 00:00:00', '2019-02-01 00:00:00',\n",
      " '2016-01-01 00:00:00', '2017-08-01 00:00:00', '2015-12-01 00:00:00',\n",
      " '2014-02-01 00:00:00', '2018-06-01 00:00:00', '2019-12-01 00:00:00',\n",
      " '2017-11-01 00:00:00', '2019-06-01 00:00:00', '2016-04-01 00:00:00',\n",
      " '2017-02-01 00:00:00', '2018-12-01 00:00:00', '2014-04-01 00:00:00',\n",
      " '2018-09-01 00:00:00', '2014-11-01 00:00:00', '2016-07-01 00:00:00',\n",
      " '2015-02-01 00:00:00', '2018-07-01 00:00:00', '2014-08-01 00:00:00',\n",
      " '2016-03-01 00:00:00', '2018-08-01 00:00:00', '2014-10-01 00:00:00',\n",
      " '2015-06-01 00:00:00', '2016-08-01 00:00:00', '2019-05-01 00:00:00',\n",
      " '2017-03-01 00:00:00', '2016-02-01 00:00:00', '2017-09-01 00:00:00',\n",
      " '2014-09-01 00:00:00', '2017-12-01 00:00:00', '2016-12-01 00:00:00',\n",
      " '2017-06-01 00:00:00', '2015-05-01 00:00:00', '2016-10-01 00:00:00',\n",
      " '2016-09-01 00:00:00', '2019-08-01 00:00:00', '2019-07-01 00:00:00',\n",
      " '2017-05-01 00:00:00', '2017-10-01 00:00:00', '2014-07-01 00:00:00',\n",
      " '2018-03-01 00:00:00', '2015-01-01 00:00:00', '2018-11-01 00:00:00',\n",
      " '2015-03-01 00:00:00', '2018-02-01 00:00:00', '2016-06-01 00:00:00',\n",
      " '2015-08-01 00:00:00', '2015-11-01 00:00:00', '2014-06-01 00:00:00',\n",
      " '2017-01-01 00:00:00', '2015-07-01 00:00:00', '2016-11-01 00:00:00',\n",
      " '2013-11-01 00:00:00', '2014-01-01 00:00:00', '2013-10-01 00:00:00',\n",
      " '2013-12-01 00:00:00']\n",
      "Length: 76, dtype: datetime64[ns]\n",
      "Уникальные значения в поле end_date:\n",
      "<DatetimeArray>\n",
      "['2020-02-01 00:00:00', '2017-05-01 00:00:00', '2016-03-01 00:00:00',\n",
      " '2018-09-01 00:00:00', '2018-11-01 00:00:00', '2018-12-01 00:00:00',\n",
      " '2019-08-01 00:00:00', '2018-07-01 00:00:00', '2017-09-01 00:00:00',\n",
      " '2015-09-01 00:00:00', '2016-07-01 00:00:00', '2016-06-01 00:00:00',\n",
      " '2018-03-01 00:00:00', '2019-02-01 00:00:00', '2018-06-01 00:00:00',\n",
      " '2019-06-01 00:00:00', '2020-01-01 00:00:00', '2019-11-01 00:00:00',\n",
      " '2016-09-01 00:00:00', '2015-06-01 00:00:00', '2016-12-01 00:00:00',\n",
      " '2019-05-01 00:00:00', '2019-04-01 00:00:00', '2017-06-01 00:00:00',\n",
      " '2017-08-01 00:00:00', '2018-04-01 00:00:00', '2018-08-01 00:00:00',\n",
      " '2018-02-01 00:00:00', '2019-07-01 00:00:00', '2015-12-01 00:00:00',\n",
      " '2014-06-01 00:00:00', '2018-10-01 00:00:00', '2019-01-01 00:00:00',\n",
      " '2017-07-01 00:00:00', '2017-12-01 00:00:00', '2018-05-01 00:00:00',\n",
      " '2015-11-01 00:00:00', '2019-10-01 00:00:00', '2019-03-01 00:00:00',\n",
      " '2016-02-01 00:00:00', '2016-10-01 00:00:00', '2018-01-01 00:00:00',\n",
      " '2017-11-01 00:00:00', '2015-10-01 00:00:00', '2019-12-01 00:00:00',\n",
      " '2015-07-01 00:00:00', '2017-04-01 00:00:00', '2015-02-01 00:00:00',\n",
      " '2017-03-01 00:00:00', '2016-05-01 00:00:00', '2016-11-01 00:00:00',\n",
      " '2015-08-01 00:00:00', '2019-09-01 00:00:00', '2017-10-01 00:00:00',\n",
      " '2017-02-01 00:00:00', '2016-08-01 00:00:00', '2016-04-01 00:00:00',\n",
      " '2015-05-01 00:00:00', '2014-09-01 00:00:00', '2014-10-01 00:00:00',\n",
      " '2017-01-01 00:00:00', '2015-03-01 00:00:00', '2015-01-01 00:00:00',\n",
      " '2016-01-01 00:00:00', '2015-04-01 00:00:00', '2014-12-01 00:00:00',\n",
      " '2014-11-01 00:00:00']\n",
      "Length: 67, dtype: datetime64[ns]\n",
      "Уникальные значения в поле type:\n",
      "['Month-to-month' 'One year' 'Two year']\n",
      "Уникальные значения в поле paperless_billing:\n",
      "['Yes' 'No']\n",
      "Уникальные значения в поле payment_method:\n",
      "['Electronic check' 'Mailed check' 'Bank transfer (automatic)'\n",
      " 'Credit card (automatic)']\n",
      "Уникальные значения в поле monthly_charges:\n",
      "[29.85 56.95 53.85 ... 63.1  44.2  78.7 ]\n",
      "Уникальные значения в поле total_charges:\n",
      "[  31.04 2071.84  226.17 ...  325.6   520.8  7251.82]\n",
      "Уникальные значения в поле internet_service:\n",
      "['DSL' 'Fiber optic' 'not_user']\n",
      "Уникальные значения в поле online_security:\n",
      "['No' 'Yes']\n",
      "Уникальные значения в поле online_backup:\n",
      "['Yes' 'No']\n",
      "Уникальные значения в поле device_protection:\n",
      "['No' 'Yes']\n",
      "Уникальные значения в поле tech_support:\n",
      "['No' 'Yes']\n",
      "Уникальные значения в поле streaming_tv:\n",
      "['No' 'Yes']\n",
      "Уникальные значения в поле streaming_movies:\n",
      "['No' 'Yes']\n",
      "Уникальные значения в поле gender:\n",
      "['Female' 'Male']\n",
      "Уникальные значения в поле senior_citizen:\n",
      "[0 1]\n",
      "Уникальные значения в поле partner:\n",
      "['Yes' 'No']\n",
      "Уникальные значения в поле dependents:\n",
      "['No' 'Yes']\n",
      "Уникальные значения в поле multiple_lines:\n",
      "['No' 'Yes']\n",
      "Уникальные значения в поле is_active:\n",
      "[1 0]\n",
      "Уникальные значения в поле days_active:\n",
      "[  31 1036  123 1371  153  337  671  306  945  882  396  488 1767 1614\n",
      "  761  670 1584 2163  641   92  365 1492 1523 2191  610 1706   62  822\n",
      " 1764  245 1401 1095  427 1948  518 1918 2102 1310 1826  580 2010 1432\n",
      " 1246  549 1949 1888  914 1279  276 1067 1461  883  881  792 1157 1581\n",
      " 1280  973 1248  184  215 1006  853 2041  702 1737 1857 1979  457  884\n",
      " 1431  485 1034  975 1551  700  942 1734 1798  730 1340 1216  943 1066\n",
      " 1096 1645 1642  273 1553 1219  303 1126 1887 2071  426 2040  911 2132\n",
      " 1736  640 1489 1675 1218 1522 1186  608  214   59   61 1035 1341 1917\n",
      " 1676 1795 1155  913  182  820 1430  976  579  669  486  668  760 1611\n",
      "  912 1552  275 2038 1187 1068 1003 1127 1124  274 1705  305 1308 1491\n",
      "  762  335 1185  425  609 1004 2283 1005  181  489  304 1247 1065  550\n",
      "  854 2070 1370  334  213  122  851  395  546  578  548  946  638 1007\n",
      "  456  487 1372 1582 1064  972  974 1673 1217 1156  823 1765 1369  791\n",
      " 1643  759  458 1249 1037 1644  852  790   28  212 1338  699  243  183\n",
      "  515  731  366 1583 1188  850  577 1277  519  517 1400  915  151  242\n",
      " 1278  607  393 1735 1339 1158 1704   30  944 1520  639  701 1125 1311\n",
      " 2314 2068  672  121 1612  611 1399  454 1309  424   90 1550  547 1915\n",
      "  336  516  821 2129  789   91  397 1402  703  244 2253  793]\n",
      "Уникальные значения в поле internet_user:\n",
      "[1 0]\n",
      "Уникальные значения в поле phone_user:\n",
      "[0 1]\n"
     ]
    }
   ],
   "source": [
    "data_info(df_all)"
   ]
  },
  {
   "cell_type": "markdown",
   "metadata": {},
   "source": [
    "Построим боксплоты для `monthly_charges` и `total_charges` для исследования на предмет выбросов."
   ]
  },
  {
   "cell_type": "code",
   "execution_count": 23,
   "metadata": {},
   "outputs": [
    {
     "data": {
      "image/png": "[encoded data removed]"
     },
     "metadata": {},
     "output_type": "display_data"
    }
   ],
   "source": [
    "fig = make_subplots(rows=1, cols=2, subplot_titles=['Суммарная оплата', 'Ежемесячная оплата'])\n",
    "\n",
    "fig.add_trace(go.Box(y=df_all['total_charges']), row=1, col=1)\n",
    "fig.add_trace(go.Box(y=df_all['monthly_charges']), row=1, col=2)\n",
    "\n",
    "fig.update_layout(height=800, width=800, title_text=\"Boxplot\", showlegend=False)\n",
    "fig.show('png')"
   ]
  },
  {
   "cell_type": "markdown",
   "metadata": {},
   "source": [
    "Выбросы на графике для ежемесячной оплаты отсутствуют. На графике суммарной оплаты присутствует некоторое количество выбросов. Для их удаления воспользуемся 99-ым перцентилем."
   ]
  },
  {
   "cell_type": "code",
   "execution_count": 24,
   "metadata": {},
   "outputs": [],
   "source": [
    "quant = df_all['total_charges'].quantile(0.99)\n",
    "\n",
    "df_all = df_all.query('total_charges < @quant')"
   ]
  },
  {
   "cell_type": "markdown",
   "metadata": {},
   "source": [
    "Продолжим изучать количественные признаки.\n",
    "Построим гистограммы по `monthly_charges` отдельно для активных и неактивных пользователей, а также суммарный график.\n",
    "\n",
    "На гистограммах видно, что пик ежемесячной оплаты выше у неактивных пользователей, он находится в районе 100, у активных пользователей преобладающее значение находится в районе 18-22. Однако, более \"жирные\" ушедшие пользователи не оказывают большого влияния на итоговый график, т.к. их в несколько раз меньше, чем активных."
   ]
  },
  {
   "cell_type": "code",
   "execution_count": 25,
   "metadata": {},
   "outputs": [
    {
     "data": {
      "image/png": "[encoded data removed]"
     },
     "metadata": {},
     "output_type": "display_data"
    }
   ],
   "source": [
    "fig = go.Figure()\n",
    "\n",
    "fig.add_trace(\n",
    "    go.Histogram(x=df_all['monthly_charges'], name='Все пользователи', nbinsx=50)\n",
    ")\n",
    "\n",
    "fig.add_trace(\n",
    "    go.Histogram(x=df_all.query('is_active == True')['monthly_charges'], name='Активные пользователи', nbinsx=50)\n",
    ")\n",
    "\n",
    "fig.add_trace(\n",
    "    go.Histogram(x=df_all.query('is_active == False')['monthly_charges'], name='Неактивные пользователи', nbinsx=50)\n",
    ")\n",
    "\n",
    "fig.update_layout(height=600, width=1000,\n",
    "                  title_text=\"Распределение ежемесячной оплаты пользователей\",\n",
    "                  barmode='overlay',\n",
    "                  showlegend=True\n",
    "                 )\n",
    "\n",
    "fig.update_traces(opacity=0.75)\n",
    "\n",
    "fig.show('png')"
   ]
  },
  {
   "cell_type": "markdown",
   "metadata": {},
   "source": [
    "Гистограммы по суммарной оплате показывают, что большая часть активных пользователей в сумме заплатила до 500 долларов, график для неактивных пользователей распределен равномернее в промежутке от 500 до 3000 долларов."
   ]
  },
  {
   "cell_type": "code",
   "execution_count": 26,
   "metadata": {},
   "outputs": [
    {
     "data": {
      "image/png": "[encoded data removed]"
     },
     "metadata": {},
     "output_type": "display_data"
    }
   ],
   "source": [
    "fig = go.Figure()\n",
    "\n",
    "fig.add_trace(\n",
    "    go.Histogram(x=df_all['total_charges'], name='Все пользователи')\n",
    ")\n",
    "\n",
    "fig.add_trace(\n",
    "    go.Histogram(x=df_all.query('is_active == True')['total_charges'], name='Активные пользователи')\n",
    ")\n",
    "\n",
    "fig.add_trace(\n",
    "    go.Histogram(x=df_all.query('is_active == False')['total_charges'], name='Неактивные пользователи')\n",
    ")\n",
    "\n",
    "fig.update_layout(height=600, width=1000,\n",
    "                  title_text=\"Распределение суммарной оплаты пользователей\",\n",
    "                  barmode='overlay',\n",
    "                  showlegend=True\n",
    "                 )\n",
    "\n",
    "fig.update_traces(opacity=0.75)\n",
    "\n",
    "fig.show('png')"
   ]
  },
  {
   "cell_type": "markdown",
   "metadata": {},
   "source": [
    "Рассмотрим также статистические показатели для наших данных. Изучим также данные в разбивке по активности и суммарно.\n",
    "\n",
    "Данные подтверждают гистограммы, описанные выше. Медианное значение у ушедших пользователей на 15 единиц для ежемесячной и на 1000 единиц для суммарной оплаты больше, чем у оставшихся, по этим показателям видно, что ушедшие пользователи в среднем платили больше. Стандартное отклонение в сравнении показывает, что средний разброс значений для ежемесячной оплаты примерно одинаков для обоих групп, когда как для суммарной оплаты разброс выше для активных пользователей."
   ]
  },
  {
   "cell_type": "code",
   "execution_count": 27,
   "metadata": {},
   "outputs": [
    {
     "name": "stdout",
     "output_type": "stream",
     "text": [
      "Значения для активных пользователей\n"
     ]
    },
    {
     "data": {
      "text/html": [
       "<div>\n",
       "<style scoped>\n",
       "    .dataframe tbody tr th:only-of-type {\n",
       "        vertical-align: middle;\n",
       "    }\n",
       "\n",
       "    .dataframe tbody tr th {\n",
       "        vertical-align: top;\n",
       "    }\n",
       "\n",
       "    .dataframe thead th {\n",
       "        text-align: right;\n",
       "    }\n",
       "</style>\n",
       "<table border=\"1\" class=\"dataframe\">\n",
       "  <thead>\n",
       "    <tr style=\"text-align: right;\">\n",
       "      <th></th>\n",
       "      <th>total_charges</th>\n",
       "      <th>monthly_charges</th>\n",
       "    </tr>\n",
       "  </thead>\n",
       "  <tbody>\n",
       "    <tr>\n",
       "      <th>count</th>\n",
       "      <td>5860.000000</td>\n",
       "      <td>5860.000000</td>\n",
       "    </tr>\n",
       "    <tr>\n",
       "      <th>mean</th>\n",
       "      <td>1994.035597</td>\n",
       "      <td>62.183831</td>\n",
       "    </tr>\n",
       "    <tr>\n",
       "      <th>std</th>\n",
       "      <td>2089.891954</td>\n",
       "      <td>29.482424</td>\n",
       "    </tr>\n",
       "    <tr>\n",
       "      <th>min</th>\n",
       "      <td>19.050000</td>\n",
       "      <td>18.250000</td>\n",
       "    </tr>\n",
       "    <tr>\n",
       "      <th>25%</th>\n",
       "      <td>372.677500</td>\n",
       "      <td>29.750000</td>\n",
       "    </tr>\n",
       "    <tr>\n",
       "      <th>50%</th>\n",
       "      <td>1170.125000</td>\n",
       "      <td>68.975000</td>\n",
       "    </tr>\n",
       "    <tr>\n",
       "      <th>75%</th>\n",
       "      <td>3056.577500</td>\n",
       "      <td>86.250000</td>\n",
       "    </tr>\n",
       "    <tr>\n",
       "      <th>max</th>\n",
       "      <td>8158.220000</td>\n",
       "      <td>118.600000</td>\n",
       "    </tr>\n",
       "  </tbody>\n",
       "</table>\n",
       "</div>"
      ],
      "text/plain": [
       "       total_charges  monthly_charges\n",
       "count    5860.000000      5860.000000\n",
       "mean     1994.035597        62.183831\n",
       "std      2089.891954        29.482424\n",
       "min        19.050000        18.250000\n",
       "25%       372.677500        29.750000\n",
       "50%      1170.125000        68.975000\n",
       "75%      3056.577500        86.250000\n",
       "max      8158.220000       118.600000"
      ]
     },
     "metadata": {},
     "output_type": "display_data"
    },
    {
     "name": "stdout",
     "output_type": "stream",
     "text": [
      "****************************************************************************************************\n",
      "Значения для ушедших пользователей\n"
     ]
    },
    {
     "data": {
      "text/html": [
       "<div>\n",
       "<style scoped>\n",
       "    .dataframe tbody tr th:only-of-type {\n",
       "        vertical-align: middle;\n",
       "    }\n",
       "\n",
       "    .dataframe tbody tr th {\n",
       "        vertical-align: top;\n",
       "    }\n",
       "\n",
       "    .dataframe thead th {\n",
       "        text-align: right;\n",
       "    }\n",
       "</style>\n",
       "<table border=\"1\" class=\"dataframe\">\n",
       "  <thead>\n",
       "    <tr style=\"text-align: right;\">\n",
       "      <th></th>\n",
       "      <th>total_charges</th>\n",
       "      <th>monthly_charges</th>\n",
       "    </tr>\n",
       "  </thead>\n",
       "  <tbody>\n",
       "    <tr>\n",
       "      <th>count</th>\n",
       "      <td>1101.000000</td>\n",
       "      <td>1101.000000</td>\n",
       "    </tr>\n",
       "    <tr>\n",
       "      <th>mean</th>\n",
       "      <td>2371.377275</td>\n",
       "      <td>75.546004</td>\n",
       "    </tr>\n",
       "    <tr>\n",
       "      <th>std</th>\n",
       "      <td>1581.862275</td>\n",
       "      <td>29.116213</td>\n",
       "    </tr>\n",
       "    <tr>\n",
       "      <th>min</th>\n",
       "      <td>77.840000</td>\n",
       "      <td>18.400000</td>\n",
       "    </tr>\n",
       "    <tr>\n",
       "      <th>25%</th>\n",
       "      <td>1048.050000</td>\n",
       "      <td>56.150000</td>\n",
       "    </tr>\n",
       "    <tr>\n",
       "      <th>50%</th>\n",
       "      <td>2139.030000</td>\n",
       "      <td>84.200000</td>\n",
       "    </tr>\n",
       "    <tr>\n",
       "      <th>75%</th>\n",
       "      <td>3404.910000</td>\n",
       "      <td>99.500000</td>\n",
       "    </tr>\n",
       "    <tr>\n",
       "      <th>max</th>\n",
       "      <td>7649.760000</td>\n",
       "      <td>118.750000</td>\n",
       "    </tr>\n",
       "  </tbody>\n",
       "</table>\n",
       "</div>"
      ],
      "text/plain": [
       "       total_charges  monthly_charges\n",
       "count    1101.000000      1101.000000\n",
       "mean     2371.377275        75.546004\n",
       "std      1581.862275        29.116213\n",
       "min        77.840000        18.400000\n",
       "25%      1048.050000        56.150000\n",
       "50%      2139.030000        84.200000\n",
       "75%      3404.910000        99.500000\n",
       "max      7649.760000       118.750000"
      ]
     },
     "metadata": {},
     "output_type": "display_data"
    },
    {
     "name": "stdout",
     "output_type": "stream",
     "text": [
      "****************************************************************************************************\n",
      "Значения для всех пользователей\n"
     ]
    },
    {
     "data": {
      "text/html": [
       "<div>\n",
       "<style scoped>\n",
       "    .dataframe tbody tr th:only-of-type {\n",
       "        vertical-align: middle;\n",
       "    }\n",
       "\n",
       "    .dataframe tbody tr th {\n",
       "        vertical-align: top;\n",
       "    }\n",
       "\n",
       "    .dataframe thead th {\n",
       "        text-align: right;\n",
       "    }\n",
       "</style>\n",
       "<table border=\"1\" class=\"dataframe\">\n",
       "  <thead>\n",
       "    <tr style=\"text-align: right;\">\n",
       "      <th></th>\n",
       "      <th>total_charges</th>\n",
       "      <th>monthly_charges</th>\n",
       "    </tr>\n",
       "  </thead>\n",
       "  <tbody>\n",
       "    <tr>\n",
       "      <th>count</th>\n",
       "      <td>6961.000000</td>\n",
       "      <td>6961.000000</td>\n",
       "    </tr>\n",
       "    <tr>\n",
       "      <th>mean</th>\n",
       "      <td>2053.718572</td>\n",
       "      <td>64.297285</td>\n",
       "    </tr>\n",
       "    <tr>\n",
       "      <th>std</th>\n",
       "      <td>2022.664016</td>\n",
       "      <td>29.824050</td>\n",
       "    </tr>\n",
       "    <tr>\n",
       "      <th>min</th>\n",
       "      <td>19.050000</td>\n",
       "      <td>18.250000</td>\n",
       "    </tr>\n",
       "    <tr>\n",
       "      <th>25%</th>\n",
       "      <td>433.000000</td>\n",
       "      <td>35.200000</td>\n",
       "    </tr>\n",
       "    <tr>\n",
       "      <th>50%</th>\n",
       "      <td>1323.600000</td>\n",
       "      <td>70.150000</td>\n",
       "    </tr>\n",
       "    <tr>\n",
       "      <th>75%</th>\n",
       "      <td>3174.900000</td>\n",
       "      <td>89.550000</td>\n",
       "    </tr>\n",
       "    <tr>\n",
       "      <th>max</th>\n",
       "      <td>8158.220000</td>\n",
       "      <td>118.750000</td>\n",
       "    </tr>\n",
       "  </tbody>\n",
       "</table>\n",
       "</div>"
      ],
      "text/plain": [
       "       total_charges  monthly_charges\n",
       "count    6961.000000      6961.000000\n",
       "mean     2053.718572        64.297285\n",
       "std      2022.664016        29.824050\n",
       "min        19.050000        18.250000\n",
       "25%       433.000000        35.200000\n",
       "50%      1323.600000        70.150000\n",
       "75%      3174.900000        89.550000\n",
       "max      8158.220000       118.750000"
      ]
     },
     "metadata": {},
     "output_type": "display_data"
    }
   ],
   "source": [
    "print('Значения для активных пользователей')\n",
    "display(df_all.query('is_active == True')[['total_charges', 'monthly_charges']].describe())\n",
    "print('*'*100)\n",
    "print('Значения для ушедших пользователей')\n",
    "display(df_all.query('is_active == False')[['total_charges', 'monthly_charges']].describe())\n",
    "print('*'*100)\n",
    "print('Значения для всех пользователей')\n",
    "display(df_all[['total_charges', 'monthly_charges']].describe())"
   ]
  },
  {
   "cell_type": "markdown",
   "metadata": {},
   "source": [
    "Проверим популярность различных услуг для пользователей интернет- и телефонных услуг."
   ]
  },
  {
   "cell_type": "code",
   "execution_count": 28,
   "metadata": {},
   "outputs": [
    {
     "name": "stdout",
     "output_type": "stream",
     "text": [
      "78.16% пользователей подключили интернет\n",
      "90.23% пользователей подключили телефон\n",
      "35.89% пользуются online_security\n",
      "43.36% пользуются online_backup\n",
      "43.14% пользуются device_protection\n",
      "36.26% пользуются tech_support\n",
      "48.37% пользуются streaming_tv\n",
      "48.89% пользуются streaming_movies\n",
      "46.11% пользуются multiple_lines\n"
     ]
    }
   ],
   "source": [
    "int_perc = round(df_all[df_all['internet_user'] == True].shape[0] * 100 / df_all.shape[0], 2)\n",
    "phone_perc = round(df_all[df_all['phone_user'] == True].shape[0] * 100 / df_all.shape[0], 2)\n",
    "\n",
    "print(f'{int_perc}% пользователей подключили интернет')\n",
    "print(f'{phone_perc}% пользователей подключили телефон')\n",
    "\n",
    "internet_services= ['online_security', 'online_backup', 'device_protection',\n",
    "                    'tech_support', 'streaming_tv', 'streaming_movies']\n",
    "\n",
    "def users(type, service):\n",
    "    perc = round(df_all[(df_all[type] == True) & (df_all[service] == 'Yes')].shape[0] / df_all[df_all[type] == True].shape[0] * 100, 2)\n",
    "    print(f'{perc}% пользуются {service}')\n",
    "\n",
    "for service in internet_services:\n",
    "    users('internet_user', service)\n",
    "users('phone_user', 'multiple_lines')"
   ]
  },
  {
   "cell_type": "markdown",
   "metadata": {},
   "source": [
    "По данным об услугах можно сделать следующие выводы:\n",
    "\n",
    "* Телефоном пользуются больше абонентов, чем интернетом (90%/78%)\n",
    "* Наименее популярная из дополнительных услуг - блокировка небезопасных сайтов. Ее подключает 36% пользователей, из тех, кто пользуется интернетом.\n",
    "* Наиболее популярная из дополнительных услуг - онлайн-кинотеатр. Услугу подключает 49% пользователей, из тех, кто пользуется интернетом.\n"
   ]
  },
  {
   "cell_type": "markdown",
   "metadata": {},
   "source": [
    "Посмотрим на соотношение активных и неактивных пользователей."
   ]
  },
  {
   "cell_type": "code",
   "execution_count": 29,
   "metadata": {},
   "outputs": [
    {
     "data": {
      "image/png": "[encoded data removed]"
     },
     "metadata": {},
     "output_type": "display_data"
    }
   ],
   "source": [
    "fig = go.Figure()\n",
    "\n",
    "fig.add_trace(\n",
    "    go.Histogram(x=df_all.query('is_active == True')['is_active'], name='Активные пользователи')\n",
    ")\n",
    "\n",
    "fig.add_trace(\n",
    "    go.Histogram(x=df_all.query('is_active == False')['is_active'], name='Неактивные пользователи')\n",
    ")\n",
    "\n",
    "fig.update_layout(width=800, height=500)\n",
    "\n",
    "fig.show('png')"
   ]
  },
  {
   "cell_type": "markdown",
   "metadata": {},
   "source": [
    "По графику видно, что признак несбалансирован - активных пользователей примерно в 6 раз больше неактивных."
   ]
  },
  {
   "cell_type": "markdown",
   "metadata": {},
   "source": [
    "В конце анализа удалим столбцы с клиентскими ID и с датами, так как поля не несут полезной информации для дальнейшего применения алгоритмов. "
   ]
  },
  {
   "cell_type": "code",
   "execution_count": 30,
   "metadata": {},
   "outputs": [],
   "source": [
    "df_all = df_all.drop(['customer_id', 'end_date', 'begin_date'], axis=1)"
   ]
  },
  {
   "cell_type": "markdown",
   "metadata": {},
   "source": [
    "Проверим, есть ли пропуски, все ли столбцы на месте."
   ]
  },
  {
   "cell_type": "code",
   "execution_count": 31,
   "metadata": {},
   "outputs": [
    {
     "name": "stdout",
     "output_type": "stream",
     "text": [
      "<class 'pandas.core.frame.DataFrame'>\n",
      "Index: 6961 entries, 0 to 7042\n",
      "Data columns (total 21 columns):\n",
      " #   Column             Non-Null Count  Dtype  \n",
      "---  ------             --------------  -----  \n",
      " 0   type               6961 non-null   object \n",
      " 1   paperless_billing  6961 non-null   object \n",
      " 2   payment_method     6961 non-null   object \n",
      " 3   monthly_charges    6961 non-null   float64\n",
      " 4   total_charges      6961 non-null   float64\n",
      " 5   internet_service   6961 non-null   object \n",
      " 6   online_security    6961 non-null   object \n",
      " 7   online_backup      6961 non-null   object \n",
      " 8   device_protection  6961 non-null   object \n",
      " 9   tech_support       6961 non-null   object \n",
      " 10  streaming_tv       6961 non-null   object \n",
      " 11  streaming_movies   6961 non-null   object \n",
      " 12  gender             6961 non-null   object \n",
      " 13  senior_citizen     6961 non-null   int64  \n",
      " 14  partner            6961 non-null   object \n",
      " 15  dependents         6961 non-null   object \n",
      " 16  multiple_lines     6961 non-null   object \n",
      " 17  is_active          6961 non-null   int64  \n",
      " 18  days_active        6961 non-null   int64  \n",
      " 19  internet_user      6961 non-null   int64  \n",
      " 20  phone_user         6961 non-null   int64  \n",
      "dtypes: float64(2), int64(5), object(14)\n",
      "memory usage: 1.2+ MB\n"
     ]
    }
   ],
   "source": [
    "df_all.info()\n",
    "\n",
    "rows_cnt_after = df_all.shape[0]"
   ]
  },
  {
   "cell_type": "code",
   "execution_count": 32,
   "metadata": {},
   "outputs": [
    {
     "name": "stdout",
     "output_type": "stream",
     "text": [
      "1.16\n"
     ]
    }
   ],
   "source": [
    "loss = round((rows_cnt_before - rows_cnt_after) / rows_cnt_before * 100, 2)\n",
    "\n",
    "print(loss)"
   ]
  },
  {
   "cell_type": "markdown",
   "metadata": {},
   "source": [
    "В процессе обработки был потерян 1% данных, что является допустимым результатом."
   ]
  },
  {
   "cell_type": "markdown",
   "metadata": {},
   "source": [
    "## Выводы после исследовательского анализа:"
   ]
  },
  {
   "cell_type": "markdown",
   "metadata": {},
   "source": [
    "* В датасете присутствует 23 признака, из которых 2 количественных, 13 бинарных, 1 признак даты, 7 категориальных\n",
    "* Целевой признак `is_active` бинарный\n",
    "* Целевой признак несбалансирован (1:6)\n",
    "* Не все признаки полезны для работы модели (`customer_id`)\n",
    "* Самая популярная дополнительная услуга - каталог фильмов, самая непопулярная - блокировка небезопасных сайтов.\n",
    "* Ушедшие пользователи в среднем платили больше, чем активные.\n",
    "* Аномальные значения, пропуски в датасете после обработки отсутствуют."
   ]
  },
  {
   "cell_type": "markdown",
   "metadata": {},
   "source": [
    "## Подготовка данных к машинному обучению."
   ]
  },
  {
   "cell_type": "markdown",
   "metadata": {},
   "source": [
    "Сначала выделим целевой признак, а также разобьем данные на тестовую и обучающую выборки в соотношении 1:3."
   ]
  },
  {
   "cell_type": "code",
   "execution_count": 33,
   "metadata": {},
   "outputs": [
    {
     "name": "stdout",
     "output_type": "stream",
     "text": [
      "(5220, 20)\n",
      "(1741, 20)\n",
      "(5220,)\n",
      "(1741,)\n"
     ]
    }
   ],
   "source": [
    "features = df_all.drop('is_active', axis=1)\n",
    "target = df_all['is_active']\n",
    "\n",
    "features_train, features_test, target_train, target_test = train_test_split(features, target, \n",
    "                                                                            test_size=0.25, \n",
    "                                                                            stratify=target, \n",
    "                                                                            random_state=RANDOM_STATE\n",
    "                                                                            )\n",
    "\n",
    "#Проверка\n",
    "print(features_train.shape)\n",
    "print(features_test.shape)\n",
    "print(target_train.shape)\n",
    "print(target_test.shape)"
   ]
  },
  {
   "cell_type": "markdown",
   "metadata": {},
   "source": [
    "Закодируем категориальные признаки с помощью OHE, а также стандартизируем числовые признаки."
   ]
  },
  {
   "cell_type": "code",
   "execution_count": 34,
   "metadata": {},
   "outputs": [
    {
     "name": "stdout",
     "output_type": "stream",
     "text": [
      "['type', 'paperless_billing', 'payment_method', 'internet_service', 'online_security', 'online_backup', 'device_protection', 'tech_support', 'streaming_tv', 'streaming_movies', 'gender', 'partner', 'dependents', 'multiple_lines']\n"
     ]
    }
   ],
   "source": [
    "#выделяем категориальные признаки\n",
    "ohe_features = features_train.select_dtypes(include='object').columns.to_list()\n",
    "print(ohe_features)\n",
    "\n",
    "#выделяем числовые признаки\n",
    "num_features = features_train[['monthly_charges', 'total_charges', 'days_active']].columns.to_list()"
   ]
  },
  {
   "cell_type": "markdown",
   "metadata": {},
   "source": [
    "Обработку признаков осуществим с помощью `make_columns_transformer`."
   ]
  },
  {
   "cell_type": "code",
   "execution_count": 35,
   "metadata": {},
   "outputs": [
    {
     "data": {
      "text/html": [
       "<div>\n",
       "<style scoped>\n",
       "    .dataframe tbody tr th:only-of-type {\n",
       "        vertical-align: middle;\n",
       "    }\n",
       "\n",
       "    .dataframe tbody tr th {\n",
       "        vertical-align: top;\n",
       "    }\n",
       "\n",
       "    .dataframe thead th {\n",
       "        text-align: right;\n",
       "    }\n",
       "</style>\n",
       "<table border=\"1\" class=\"dataframe\">\n",
       "  <thead>\n",
       "    <tr style=\"text-align: right;\">\n",
       "      <th></th>\n",
       "      <th>type_One year</th>\n",
       "      <th>type_Two year</th>\n",
       "      <th>paperless_billing_Yes</th>\n",
       "      <th>payment_method_Credit card (automatic)</th>\n",
       "      <th>payment_method_Electronic check</th>\n",
       "      <th>payment_method_Mailed check</th>\n",
       "      <th>internet_service_Fiber optic</th>\n",
       "      <th>internet_service_not_user</th>\n",
       "      <th>online_security_Yes</th>\n",
       "      <th>online_backup_Yes</th>\n",
       "      <th>...</th>\n",
       "      <th>gender_Male</th>\n",
       "      <th>partner_Yes</th>\n",
       "      <th>dependents_Yes</th>\n",
       "      <th>multiple_lines_Yes</th>\n",
       "      <th>monthly_charges</th>\n",
       "      <th>total_charges</th>\n",
       "      <th>days_active</th>\n",
       "      <th>senior_citizen</th>\n",
       "      <th>internet_user</th>\n",
       "      <th>phone_user</th>\n",
       "    </tr>\n",
       "  </thead>\n",
       "  <tbody>\n",
       "    <tr>\n",
       "      <th>0</th>\n",
       "      <td>1.0</td>\n",
       "      <td>0.0</td>\n",
       "      <td>0.0</td>\n",
       "      <td>1.0</td>\n",
       "      <td>0.0</td>\n",
       "      <td>0.0</td>\n",
       "      <td>1.0</td>\n",
       "      <td>0.0</td>\n",
       "      <td>1.0</td>\n",
       "      <td>0.0</td>\n",
       "      <td>...</td>\n",
       "      <td>0.0</td>\n",
       "      <td>1.0</td>\n",
       "      <td>1.0</td>\n",
       "      <td>1.0</td>\n",
       "      <td>0.591418</td>\n",
       "      <td>-0.054571</td>\n",
       "      <td>-0.269681</td>\n",
       "      <td>0.0</td>\n",
       "      <td>1.0</td>\n",
       "      <td>1.0</td>\n",
       "    </tr>\n",
       "    <tr>\n",
       "      <th>1</th>\n",
       "      <td>0.0</td>\n",
       "      <td>0.0</td>\n",
       "      <td>0.0</td>\n",
       "      <td>0.0</td>\n",
       "      <td>0.0</td>\n",
       "      <td>0.0</td>\n",
       "      <td>0.0</td>\n",
       "      <td>0.0</td>\n",
       "      <td>1.0</td>\n",
       "      <td>0.0</td>\n",
       "      <td>...</td>\n",
       "      <td>0.0</td>\n",
       "      <td>1.0</td>\n",
       "      <td>1.0</td>\n",
       "      <td>0.0</td>\n",
       "      <td>-0.439892</td>\n",
       "      <td>-0.712770</td>\n",
       "      <td>-0.815933</td>\n",
       "      <td>0.0</td>\n",
       "      <td>1.0</td>\n",
       "      <td>1.0</td>\n",
       "    </tr>\n",
       "    <tr>\n",
       "      <th>2</th>\n",
       "      <td>0.0</td>\n",
       "      <td>0.0</td>\n",
       "      <td>0.0</td>\n",
       "      <td>0.0</td>\n",
       "      <td>1.0</td>\n",
       "      <td>0.0</td>\n",
       "      <td>0.0</td>\n",
       "      <td>1.0</td>\n",
       "      <td>0.0</td>\n",
       "      <td>0.0</td>\n",
       "      <td>...</td>\n",
       "      <td>1.0</td>\n",
       "      <td>1.0</td>\n",
       "      <td>0.0</td>\n",
       "      <td>0.0</td>\n",
       "      <td>-1.489588</td>\n",
       "      <td>-0.564677</td>\n",
       "      <td>0.776429</td>\n",
       "      <td>0.0</td>\n",
       "      <td>0.0</td>\n",
       "      <td>1.0</td>\n",
       "    </tr>\n",
       "    <tr>\n",
       "      <th>3</th>\n",
       "      <td>0.0</td>\n",
       "      <td>1.0</td>\n",
       "      <td>0.0</td>\n",
       "      <td>1.0</td>\n",
       "      <td>0.0</td>\n",
       "      <td>0.0</td>\n",
       "      <td>0.0</td>\n",
       "      <td>1.0</td>\n",
       "      <td>0.0</td>\n",
       "      <td>0.0</td>\n",
       "      <td>...</td>\n",
       "      <td>0.0</td>\n",
       "      <td>1.0</td>\n",
       "      <td>0.0</td>\n",
       "      <td>1.0</td>\n",
       "      <td>-1.260594</td>\n",
       "      <td>-0.014799</td>\n",
       "      <td>1.958727</td>\n",
       "      <td>0.0</td>\n",
       "      <td>0.0</td>\n",
       "      <td>1.0</td>\n",
       "    </tr>\n",
       "    <tr>\n",
       "      <th>4</th>\n",
       "      <td>1.0</td>\n",
       "      <td>0.0</td>\n",
       "      <td>0.0</td>\n",
       "      <td>1.0</td>\n",
       "      <td>0.0</td>\n",
       "      <td>0.0</td>\n",
       "      <td>0.0</td>\n",
       "      <td>0.0</td>\n",
       "      <td>1.0</td>\n",
       "      <td>1.0</td>\n",
       "      <td>...</td>\n",
       "      <td>1.0</td>\n",
       "      <td>0.0</td>\n",
       "      <td>0.0</td>\n",
       "      <td>1.0</td>\n",
       "      <td>0.420926</td>\n",
       "      <td>1.701982</td>\n",
       "      <td>1.779138</td>\n",
       "      <td>0.0</td>\n",
       "      <td>1.0</td>\n",
       "      <td>1.0</td>\n",
       "    </tr>\n",
       "  </tbody>\n",
       "</table>\n",
       "<p>5 rows × 24 columns</p>\n",
       "</div>"
      ],
      "text/plain": [
       "   type_One year  type_Two year  paperless_billing_Yes  \\\n",
       "0            1.0            0.0                    0.0   \n",
       "1            0.0            0.0                    0.0   \n",
       "2            0.0            0.0                    0.0   \n",
       "3            0.0            1.0                    0.0   \n",
       "4            1.0            0.0                    0.0   \n",
       "\n",
       "   payment_method_Credit card (automatic)  payment_method_Electronic check  \\\n",
       "0                                     1.0                              0.0   \n",
       "1                                     0.0                              0.0   \n",
       "2                                     0.0                              1.0   \n",
       "3                                     1.0                              0.0   \n",
       "4                                     1.0                              0.0   \n",
       "\n",
       "   payment_method_Mailed check  internet_service_Fiber optic  \\\n",
       "0                          0.0                           1.0   \n",
       "1                          0.0                           0.0   \n",
       "2                          0.0                           0.0   \n",
       "3                          0.0                           0.0   \n",
       "4                          0.0                           0.0   \n",
       "\n",
       "   internet_service_not_user  online_security_Yes  online_backup_Yes  ...  \\\n",
       "0                        0.0                  1.0                0.0  ...   \n",
       "1                        0.0                  1.0                0.0  ...   \n",
       "2                        1.0                  0.0                0.0  ...   \n",
       "3                        1.0                  0.0                0.0  ...   \n",
       "4                        0.0                  1.0                1.0  ...   \n",
       "\n",
       "   gender_Male  partner_Yes  dependents_Yes  multiple_lines_Yes  \\\n",
       "0          0.0          1.0             1.0                 1.0   \n",
       "1          0.0          1.0             1.0                 0.0   \n",
       "2          1.0          1.0             0.0                 0.0   \n",
       "3          0.0          1.0             0.0                 1.0   \n",
       "4          1.0          0.0             0.0                 1.0   \n",
       "\n",
       "   monthly_charges  total_charges  days_active  senior_citizen  internet_user  \\\n",
       "0         0.591418      -0.054571    -0.269681             0.0            1.0   \n",
       "1        -0.439892      -0.712770    -0.815933             0.0            1.0   \n",
       "2        -1.489588      -0.564677     0.776429             0.0            0.0   \n",
       "3        -1.260594      -0.014799     1.958727             0.0            0.0   \n",
       "4         0.420926       1.701982     1.779138             0.0            1.0   \n",
       "\n",
       "   phone_user  \n",
       "0         1.0  \n",
       "1         1.0  \n",
       "2         1.0  \n",
       "3         1.0  \n",
       "4         1.0  \n",
       "\n",
       "[5 rows x 24 columns]"
      ]
     },
     "execution_count": 35,
     "metadata": {},
     "output_type": "execute_result"
    }
   ],
   "source": [
    "col_transformer = make_column_transformer(\n",
    "    (\n",
    "        OneHotEncoder(drop='first', handle_unknown='ignore'),\n",
    "        ohe_features\n",
    "    ),\n",
    "    (\n",
    "        StandardScaler(), \n",
    "        num_features\n",
    "    ),\n",
    "    remainder='passthrough',\n",
    "    verbose_feature_names_out=False\n",
    ")\n",
    "\n",
    "#обучаем трансформеры на обучающей выборке\n",
    "features_train_transform = pd.DataFrame(\n",
    "    col_transformer.fit_transform(features_train),\n",
    "    columns=col_transformer.get_feature_names_out()\n",
    ")\n",
    "\n",
    "#проверяем\n",
    "features_train_transform.head()"
   ]
  },
  {
   "cell_type": "markdown",
   "metadata": {},
   "source": [
    "## Обучение моделей"
   ]
  },
  {
   "cell_type": "markdown",
   "metadata": {},
   "source": [
    "В процессе обучим и сравним 3 разных алгоритма: логистическую регрессию, рандомный лес и градиентный бустинг. Сравнивать модели будем по метрике ROC-AUC. Целевое значение метрики не менее 0.85"
   ]
  },
  {
   "cell_type": "markdown",
   "metadata": {},
   "source": [
    "### LogisticRegression"
   ]
  },
  {
   "cell_type": "markdown",
   "metadata": {},
   "source": [
    "Обучим логистическую регрессию с помощью кроссвалидации."
   ]
  },
  {
   "cell_type": "code",
   "execution_count": 36,
   "metadata": {},
   "outputs": [
    {
     "name": "stdout",
     "output_type": "stream",
     "text": [
      "Метрика на обучающей выборке: 0.780912448297866\n"
     ]
    }
   ],
   "source": [
    "log_model = LogisticRegressionCV(cv=10, scoring='roc_auc', class_weight='balanced', random_state=RANDOM_STATE)\n",
    "log_model.fit(features_train_transform, target_train)\n",
    "\n",
    "log_score = roc_auc_score(target_train, log_model.predict_proba(features_train_transform)[:,1])\n",
    "print(f'Метрика на обучающей выборке: {log_score}')"
   ]
  },
  {
   "cell_type": "markdown",
   "metadata": {},
   "source": [
    "Итоговое значение метрики равняется 0.78, что меньше минимального порога."
   ]
  },
  {
   "cell_type": "markdown",
   "metadata": {},
   "source": [
    "### RandomForestClassifier"
   ]
  },
  {
   "cell_type": "markdown",
   "metadata": {},
   "source": [
    "Обучим модель рандомного леса и подберем гиперпараметры с помощью `GridSearchCV`. "
   ]
  },
  {
   "cell_type": "code",
   "execution_count": 37,
   "metadata": {},
   "outputs": [
    {
     "name": "stdout",
     "output_type": "stream",
     "text": [
      "Лучшая метрика: 0.8226488711463646\n",
      "Лучшие гиперпараметры: {'max_depth': 12, 'min_samples_leaf': 4, 'min_samples_split': 2, 'n_estimators': 90}\n"
     ]
    }
   ],
   "source": [
    "rf_model = RandomForestClassifier(class_weight='balanced', random_state=RANDOM_STATE)\n",
    "\n",
    "params = {'n_estimators':range(10, 101, 10),\n",
    "          'max_depth':range(4, 21, 2),\n",
    "          'min_samples_split':[2, 3, 4],\n",
    "          'min_samples_leaf':[2, 3, 4, 5]\n",
    "          }\n",
    "\n",
    "rf_model = GridSearchCV(rf_model, params, scoring='roc_auc', cv=10, n_jobs=-1)\n",
    "\n",
    "rf_model.fit(features_train_transform, target_train)\n",
    "\n",
    "print(f'Лучшая метрика: {rf_model.best_score_}')\n",
    "print(f'Лучшие гиперпараметры: {rf_model.best_params_}')"
   ]
  },
  {
   "cell_type": "markdown",
   "metadata": {},
   "source": [
    "Целевая метрика на обучающей выборке равна 0.82, что ниже необходимого значения."
   ]
  },
  {
   "cell_type": "markdown",
   "metadata": {},
   "source": [
    "### CatBoostClassifier"
   ]
  },
  {
   "cell_type": "markdown",
   "metadata": {},
   "source": [
    "В этом случае также воспользуемся перебором гиперпараметров по гриду. Искать будем параметры скорости обучения и глубины дерева."
   ]
  },
  {
   "cell_type": "code",
   "execution_count": 38,
   "metadata": {},
   "outputs": [
    {
     "name": "stdout",
     "output_type": "stream",
     "text": [
      "Лучшая метрика: 0.9220756312652102\n",
      "Лучшие гиперпараметры: {'learning_rate': 0.5, 'max_depth': 2}\n"
     ]
    }
   ],
   "source": [
    "gb_model = CatBoostClassifier(iterations=450,\n",
    "                              auto_class_weights='Balanced',\n",
    "                              eval_metric='AUC',\n",
    "                              thread_count=-1, \n",
    "                              verbose=False,\n",
    "                              early_stopping_rounds=15, \n",
    "                              random_state=RANDOM_STATE\n",
    "                             )\n",
    "\n",
    "params = {'learning_rate':[1, 0.5, 0.1],\n",
    "          'max_depth': range(2, 17, 2)\n",
    "         }\n",
    "\n",
    "gb_model = GridSearchCV(gb_model, params, cv=8, scoring='roc_auc', n_jobs=-1)\n",
    "\n",
    "gb_model.fit(features_train_transform, target_train)\n",
    "\n",
    "print(f'Лучшая метрика: {gb_model.best_score_}')\n",
    "print(f'Лучшие гиперпараметры: {gb_model.best_params_}')\n"
   ]
  },
  {
   "cell_type": "markdown",
   "metadata": {},
   "source": [
    "Итоговое значение метрики - 0.92, что больше необходимого минимума."
   ]
  },
  {
   "cell_type": "markdown",
   "metadata": {},
   "source": [
    "### Сравнение моделей"
   ]
  },
  {
   "cell_type": "markdown",
   "metadata": {},
   "source": [
    "Выведем значения ROC-AUC алгоритмов, полученные на тренировочных выборках по итогам кросс-валидации."
   ]
  },
  {
   "cell_type": "code",
   "execution_count": 39,
   "metadata": {},
   "outputs": [
    {
     "data": {
      "text/html": [
       "<div>\n",
       "<style scoped>\n",
       "    .dataframe tbody tr th:only-of-type {\n",
       "        vertical-align: middle;\n",
       "    }\n",
       "\n",
       "    .dataframe tbody tr th {\n",
       "        vertical-align: top;\n",
       "    }\n",
       "\n",
       "    .dataframe thead th {\n",
       "        text-align: right;\n",
       "    }\n",
       "</style>\n",
       "<table border=\"1\" class=\"dataframe\">\n",
       "  <thead>\n",
       "    <tr style=\"text-align: right;\">\n",
       "      <th></th>\n",
       "      <th>Алгоритм</th>\n",
       "      <th>ROC-AUC</th>\n",
       "    </tr>\n",
       "  </thead>\n",
       "  <tbody>\n",
       "    <tr>\n",
       "      <th>0</th>\n",
       "      <td>LogisticRegression</td>\n",
       "      <td>0.780912</td>\n",
       "    </tr>\n",
       "    <tr>\n",
       "      <th>1</th>\n",
       "      <td>RandomForestClassifier</td>\n",
       "      <td>0.822649</td>\n",
       "    </tr>\n",
       "    <tr>\n",
       "      <th>2</th>\n",
       "      <td>CatBoostClassifier</td>\n",
       "      <td>0.922076</td>\n",
       "    </tr>\n",
       "  </tbody>\n",
       "</table>\n",
       "</div>"
      ],
      "text/plain": [
       "                 Алгоритм   ROC-AUC\n",
       "0      LogisticRegression  0.780912\n",
       "1  RandomForestClassifier  0.822649\n",
       "2      CatBoostClassifier  0.922076"
      ]
     },
     "metadata": {},
     "output_type": "display_data"
    }
   ],
   "source": [
    "scores = pd.DataFrame({'Алгоритм':['LogisticRegression', 'RandomForestClassifier', 'CatBoostClassifier'],\n",
    "                       'ROC-AUC':[log_score, rf_model.best_score_, gb_model.best_score_]})         \n",
    "\n",
    "display(scores)"
   ]
  },
  {
   "cell_type": "markdown",
   "metadata": {},
   "source": [
    "Наилучший результат показала модель градиентного бустинга, со значением ROC-AUC 0.877. "
   ]
  },
  {
   "cell_type": "markdown",
   "metadata": {},
   "source": [
    "## Тестирование модели"
   ]
  },
  {
   "cell_type": "markdown",
   "metadata": {},
   "source": [
    "Рассчитаем целевую метрику, точность, а также выведем матрицу ошибок для тестовой выборки."
   ]
  },
  {
   "cell_type": "code",
   "execution_count": 45,
   "metadata": {},
   "outputs": [
    {
     "name": "stdout",
     "output_type": "stream",
     "text": [
      "Итоговая метрика на обучающей модели: 0.9198908594815826\n",
      "Precision: 0.9519023689877961\n",
      "Recall: 0.9045020463847203\n",
      "True Negative: 208\n",
      "False Positive: 67\n",
      "False Negative: 140\n",
      "True Positive: 1326\n"
     ]
    }
   ],
   "source": [
    "#преобразуем тестовый датасет\n",
    "features_test_transform = pd.DataFrame(\n",
    "    col_transformer.transform(features_test),\n",
    "    columns=col_transformer.get_feature_names_out()\n",
    ")\n",
    "\n",
    "#инициализируем модель с подобранными гиперпараметрами\n",
    "gb_best_model = CatBoostClassifier(iterations=450,\n",
    "                                   auto_class_weights='Balanced',\n",
    "                                   eval_metric='AUC',\n",
    "                                   thread_count=-1, \n",
    "                                   verbose=False,\n",
    "                                   early_stopping_rounds=15, \n",
    "                                   random_state=RANDOM_STATE,\n",
    "                                   learning_rate= 0.5,\n",
    "                                   max_depth= 2\n",
    "                                  )\n",
    "\n",
    "gb_best_model.fit(features_train_transform, target_train)\n",
    "\n",
    "#смотрим метрики на тестовой выборке\n",
    "final_score = roc_auc_score(target_test, gb_best_model.predict_proba(features_test_transform)[:,1])\n",
    "final_prec = precision_score(target_test, gb_best_model.predict(features_test_transform))\n",
    "final_recall = recall_score(target_test, gb_best_model.predict(features_test_transform))\n",
    "\n",
    "print(f'Итоговая метрика на обучающей модели: {final_score}')\n",
    "print(f'Precision: {final_prec}')\n",
    "print(f'Recall: {final_recall}')\n",
    "\n",
    "#также посмотрим матрицу ошибок\n",
    "confusion = confusion_matrix(target_test, gb_best_model.predict(features_test_transform))\n",
    "print(f'True Negative: {confusion[0, 0]}')\n",
    "print(f'False Positive: {confusion[0, 1]}')\n",
    "print(f'False Negative: {confusion[1, 0]}')\n",
    "print(f'True Positive: {confusion[1, 1]}')"
   ]
  },
  {
   "cell_type": "code",
   "execution_count": 41,
   "metadata": {},
   "outputs": [
    {
     "data": {
      "image/png": "[encoded data removed]"
     },
     "metadata": {},
     "output_type": "display_data"
    }
   ],
   "source": [
    "fpr, tpr, thresholds = roc_curve(target_test, gb_model.predict_proba(features_test_transform)[:,1])\n",
    "\n",
    "fig = px.area(\n",
    "    x=fpr, y=tpr,\n",
    "    title=f'ROC Curve (AUC={auc(fpr, tpr):.4f})',\n",
    "    labels=dict(x='False Positive Rate', y='True Positive Rate'),\n",
    "    width=700, height=500\n",
    ")\n",
    "fig.add_shape(\n",
    "    type='line', line=dict(dash='dash'),\n",
    "    x0=0, x1=1, y0=0, y1=1\n",
    ")\n",
    "\n",
    "fig.update_yaxes(scaleanchor=\"x\", scaleratio=1)\n",
    "fig.update_xaxes(constrain='domain')\n",
    "fig.show('png')\n"
   ]
  },
  {
   "cell_type": "markdown",
   "metadata": {},
   "source": [
    "Целевая метрика ROC AUC равна 0.92, что больше минимально необходимого значения. Precision модели составляет 0.95, recall равен 0.9. По матрице ошибок видно, что полученная модель склонна ошибочно присваивать больше негативную метку, чем положительную."
   ]
  },
  {
   "cell_type": "markdown",
   "metadata": {},
   "source": [
    "Также изучим важность признаков с помощью `Catboost`."
   ]
  },
  {
   "cell_type": "code",
   "execution_count": 42,
   "metadata": {},
   "outputs": [
    {
     "data": {
      "text/html": [
       "<div>\n",
       "<style scoped>\n",
       "    .dataframe tbody tr th:only-of-type {\n",
       "        vertical-align: middle;\n",
       "    }\n",
       "\n",
       "    .dataframe tbody tr th {\n",
       "        vertical-align: top;\n",
       "    }\n",
       "\n",
       "    .dataframe thead th {\n",
       "        text-align: right;\n",
       "    }\n",
       "</style>\n",
       "<table border=\"1\" class=\"dataframe\">\n",
       "  <thead>\n",
       "    <tr style=\"text-align: right;\">\n",
       "      <th></th>\n",
       "      <th>Feature Id</th>\n",
       "      <th>Importances</th>\n",
       "    </tr>\n",
       "  </thead>\n",
       "  <tbody>\n",
       "    <tr>\n",
       "      <th>0</th>\n",
       "      <td>days_active</td>\n",
       "      <td>76.362866</td>\n",
       "    </tr>\n",
       "    <tr>\n",
       "      <th>1</th>\n",
       "      <td>total_charges</td>\n",
       "      <td>7.049753</td>\n",
       "    </tr>\n",
       "    <tr>\n",
       "      <th>2</th>\n",
       "      <td>monthly_charges</td>\n",
       "      <td>5.499715</td>\n",
       "    </tr>\n",
       "    <tr>\n",
       "      <th>3</th>\n",
       "      <td>type_Two year</td>\n",
       "      <td>1.823967</td>\n",
       "    </tr>\n",
       "    <tr>\n",
       "      <th>4</th>\n",
       "      <td>multiple_lines_Yes</td>\n",
       "      <td>1.452327</td>\n",
       "    </tr>\n",
       "    <tr>\n",
       "      <th>5</th>\n",
       "      <td>partner_Yes</td>\n",
       "      <td>1.203811</td>\n",
       "    </tr>\n",
       "    <tr>\n",
       "      <th>6</th>\n",
       "      <td>type_One year</td>\n",
       "      <td>1.021570</td>\n",
       "    </tr>\n",
       "    <tr>\n",
       "      <th>7</th>\n",
       "      <td>payment_method_Mailed check</td>\n",
       "      <td>0.702204</td>\n",
       "    </tr>\n",
       "    <tr>\n",
       "      <th>8</th>\n",
       "      <td>streaming_movies_Yes</td>\n",
       "      <td>0.643408</td>\n",
       "    </tr>\n",
       "    <tr>\n",
       "      <th>9</th>\n",
       "      <td>online_backup_Yes</td>\n",
       "      <td>0.617100</td>\n",
       "    </tr>\n",
       "    <tr>\n",
       "      <th>10</th>\n",
       "      <td>device_protection_Yes</td>\n",
       "      <td>0.611737</td>\n",
       "    </tr>\n",
       "    <tr>\n",
       "      <th>11</th>\n",
       "      <td>phone_user</td>\n",
       "      <td>0.554987</td>\n",
       "    </tr>\n",
       "    <tr>\n",
       "      <th>12</th>\n",
       "      <td>payment_method_Credit card (automatic)</td>\n",
       "      <td>0.382545</td>\n",
       "    </tr>\n",
       "    <tr>\n",
       "      <th>13</th>\n",
       "      <td>streaming_tv_Yes</td>\n",
       "      <td>0.352757</td>\n",
       "    </tr>\n",
       "    <tr>\n",
       "      <th>14</th>\n",
       "      <td>dependents_Yes</td>\n",
       "      <td>0.349215</td>\n",
       "    </tr>\n",
       "    <tr>\n",
       "      <th>15</th>\n",
       "      <td>payment_method_Electronic check</td>\n",
       "      <td>0.300916</td>\n",
       "    </tr>\n",
       "    <tr>\n",
       "      <th>16</th>\n",
       "      <td>tech_support_Yes</td>\n",
       "      <td>0.218836</td>\n",
       "    </tr>\n",
       "    <tr>\n",
       "      <th>17</th>\n",
       "      <td>gender_Male</td>\n",
       "      <td>0.204851</td>\n",
       "    </tr>\n",
       "    <tr>\n",
       "      <th>18</th>\n",
       "      <td>senior_citizen</td>\n",
       "      <td>0.188303</td>\n",
       "    </tr>\n",
       "    <tr>\n",
       "      <th>19</th>\n",
       "      <td>internet_service_Fiber optic</td>\n",
       "      <td>0.175519</td>\n",
       "    </tr>\n",
       "    <tr>\n",
       "      <th>20</th>\n",
       "      <td>online_security_Yes</td>\n",
       "      <td>0.152245</td>\n",
       "    </tr>\n",
       "    <tr>\n",
       "      <th>21</th>\n",
       "      <td>paperless_billing_Yes</td>\n",
       "      <td>0.131372</td>\n",
       "    </tr>\n",
       "    <tr>\n",
       "      <th>22</th>\n",
       "      <td>internet_service_not_user</td>\n",
       "      <td>0.000000</td>\n",
       "    </tr>\n",
       "    <tr>\n",
       "      <th>23</th>\n",
       "      <td>internet_user</td>\n",
       "      <td>0.000000</td>\n",
       "    </tr>\n",
       "  </tbody>\n",
       "</table>\n",
       "</div>"
      ],
      "text/plain": [
       "                                Feature Id  Importances\n",
       "0                              days_active    76.362866\n",
       "1                            total_charges     7.049753\n",
       "2                          monthly_charges     5.499715\n",
       "3                            type_Two year     1.823967\n",
       "4                       multiple_lines_Yes     1.452327\n",
       "5                              partner_Yes     1.203811\n",
       "6                            type_One year     1.021570\n",
       "7              payment_method_Mailed check     0.702204\n",
       "8                     streaming_movies_Yes     0.643408\n",
       "9                        online_backup_Yes     0.617100\n",
       "10                   device_protection_Yes     0.611737\n",
       "11                              phone_user     0.554987\n",
       "12  payment_method_Credit card (automatic)     0.382545\n",
       "13                        streaming_tv_Yes     0.352757\n",
       "14                          dependents_Yes     0.349215\n",
       "15         payment_method_Electronic check     0.300916\n",
       "16                        tech_support_Yes     0.218836\n",
       "17                             gender_Male     0.204851\n",
       "18                          senior_citizen     0.188303\n",
       "19            internet_service_Fiber optic     0.175519\n",
       "20                     online_security_Yes     0.152245\n",
       "21                   paperless_billing_Yes     0.131372\n",
       "22               internet_service_not_user     0.000000\n",
       "23                           internet_user     0.000000"
      ]
     },
     "metadata": {},
     "output_type": "display_data"
    },
    {
     "data": {
      "image/png": "[encoded data removed]"
     },
     "metadata": {},
     "output_type": "display_data"
    }
   ],
   "source": [
    "feat_imp = gb_best_model.get_feature_importance(prettified=True)\n",
    "\n",
    "display(feat_imp)\n",
    "\n",
    "#используем логарифмическую шкалу, иначе график будет неинформативен\n",
    "fig = px.bar(x=feat_imp['Feature Id'], y=feat_imp['Importances'], title='Feature importances', log_y=True, width=1200, height=400)\n",
    "\n",
    "fig.show('png')"
   ]
  },
  {
   "cell_type": "markdown",
   "metadata": {},
   "source": [
    "Наибольшее влияние имеют численные признаки: `days_active`, `total_charges`, `monthly_charges`, с наибольшим преобладанием первой фичи. Остальные категориальные данные обладают минорным влиянием на итоговое предсказание модели."
   ]
  },
  {
   "cell_type": "markdown",
   "metadata": {},
   "source": [
    "## Итоги"
   ]
  },
  {
   "cell_type": "markdown",
   "metadata": {},
   "source": [
    "Мы обучили и испытали модель, предсказывающую уход клиента в ближайшем будущем. В процессе работы было сделано:\n",
    "* Были подготовлены и исследованы представленные датасеты.\n",
    "* На основе данных были синтезированы дополнительные искусственные признаки.\n",
    "* Исходная выборка была разбита на тренировочную и тестовую в соотношении 3:1.\n",
    "* Категориальные признаки были преобразованы по методу OHE.\n",
    "* Числовые признаки были стандартизированы.\n",
    "* Было обучено 3 разных модели ML: логистическая регрессия, рандомный лес и градиентный бустинг. Модели обучались с помощью кросс-валидации.\n",
    "* Наилучшие результаты показала модель градиентного бустинга.\n",
    "* Модель была успешно протестирована на тестовой выборке.\n",
    "* Наибольшее влияние оказывают фичи `days_active`, `total_charges`, `monthly_charges`. Остальные признаки изменяют вывод модели достаточно незначительно.\n",
    "* Итоговая метрика ROC-AUC: 0.92, precision: 0.95, recall: 0.9."
   ]
  }
 ],
 "metadata": {
  "ExecuteTimeLog": [
   {
    "duration": 475,
    "start_time": "2023-04-05T12:44:31.580Z"
   },
   {
    "duration": 0,
    "start_time": "2023-04-05T12:44:32.057Z"
   },
   {
    "duration": 0,
    "start_time": "2023-04-05T12:44:32.059Z"
   },
   {
    "duration": 1,
    "start_time": "2023-04-05T12:44:32.060Z"
   },
   {
    "duration": 0,
    "start_time": "2023-04-05T12:44:32.062Z"
   },
   {
    "duration": 0,
    "start_time": "2023-04-05T12:44:32.063Z"
   },
   {
    "duration": 0,
    "start_time": "2023-04-05T12:44:32.064Z"
   },
   {
    "duration": 0,
    "start_time": "2023-04-05T12:44:32.065Z"
   },
   {
    "duration": 0,
    "start_time": "2023-04-05T12:44:32.067Z"
   },
   {
    "duration": 0,
    "start_time": "2023-04-05T12:44:32.069Z"
   },
   {
    "duration": 0,
    "start_time": "2023-04-05T12:44:32.071Z"
   },
   {
    "duration": 0,
    "start_time": "2023-04-05T12:44:32.073Z"
   },
   {
    "duration": 0,
    "start_time": "2023-04-05T12:44:32.074Z"
   },
   {
    "duration": 0,
    "start_time": "2023-04-05T12:44:32.076Z"
   },
   {
    "duration": 0,
    "start_time": "2023-04-05T12:44:32.078Z"
   },
   {
    "duration": 0,
    "start_time": "2023-04-05T12:44:32.079Z"
   },
   {
    "duration": 464,
    "start_time": "2023-04-05T13:05:42.365Z"
   },
   {
    "duration": 0,
    "start_time": "2023-04-05T13:05:42.831Z"
   },
   {
    "duration": 0,
    "start_time": "2023-04-05T13:05:42.833Z"
   },
   {
    "duration": 0,
    "start_time": "2023-04-05T13:05:42.834Z"
   },
   {
    "duration": 0,
    "start_time": "2023-04-05T13:05:42.835Z"
   },
   {
    "duration": 0,
    "start_time": "2023-04-05T13:05:42.836Z"
   },
   {
    "duration": 0,
    "start_time": "2023-04-05T13:05:42.837Z"
   },
   {
    "duration": 0,
    "start_time": "2023-04-05T13:05:42.838Z"
   },
   {
    "duration": 0,
    "start_time": "2023-04-05T13:05:42.840Z"
   },
   {
    "duration": 0,
    "start_time": "2023-04-05T13:05:42.841Z"
   },
   {
    "duration": 0,
    "start_time": "2023-04-05T13:05:42.842Z"
   },
   {
    "duration": 0,
    "start_time": "2023-04-05T13:05:42.843Z"
   },
   {
    "duration": 0,
    "start_time": "2023-04-05T13:05:42.844Z"
   },
   {
    "duration": 0,
    "start_time": "2023-04-05T13:05:42.845Z"
   },
   {
    "duration": 0,
    "start_time": "2023-04-05T13:05:42.846Z"
   },
   {
    "duration": 0,
    "start_time": "2023-04-05T13:05:42.847Z"
   },
   {
    "duration": 648,
    "start_time": "2023-04-05T13:51:10.222Z"
   },
   {
    "duration": 9,
    "start_time": "2023-04-05T13:51:16.158Z"
   },
   {
    "duration": 24319,
    "start_time": "2023-04-05T13:51:22.364Z"
   },
   {
    "duration": 4015,
    "start_time": "2023-04-05T13:51:46.687Z"
   },
   {
    "duration": 3156,
    "start_time": "2023-04-05T13:52:05.514Z"
   },
   {
    "duration": 2476,
    "start_time": "2023-04-05T13:52:20.890Z"
   },
   {
    "duration": 439,
    "start_time": "2023-04-05T13:52:39.674Z"
   },
   {
    "duration": 139,
    "start_time": "2023-04-05T13:53:09.570Z"
   },
   {
    "duration": 700,
    "start_time": "2023-04-06T12:27:12.411Z"
   },
   {
    "duration": 0,
    "start_time": "2023-04-06T12:27:13.116Z"
   },
   {
    "duration": 0,
    "start_time": "2023-04-06T12:27:13.118Z"
   },
   {
    "duration": 0,
    "start_time": "2023-04-06T12:27:13.119Z"
   },
   {
    "duration": 0,
    "start_time": "2023-04-06T12:27:13.120Z"
   },
   {
    "duration": 1,
    "start_time": "2023-04-06T12:27:13.121Z"
   },
   {
    "duration": 0,
    "start_time": "2023-04-06T12:27:13.123Z"
   },
   {
    "duration": 0,
    "start_time": "2023-04-06T12:27:13.124Z"
   },
   {
    "duration": 0,
    "start_time": "2023-04-06T12:27:13.125Z"
   },
   {
    "duration": 0,
    "start_time": "2023-04-06T12:27:13.126Z"
   },
   {
    "duration": 0,
    "start_time": "2023-04-06T12:27:13.127Z"
   },
   {
    "duration": 0,
    "start_time": "2023-04-06T12:27:13.128Z"
   },
   {
    "duration": 0,
    "start_time": "2023-04-06T12:27:13.130Z"
   },
   {
    "duration": 0,
    "start_time": "2023-04-06T12:27:13.131Z"
   },
   {
    "duration": 0,
    "start_time": "2023-04-06T12:27:13.132Z"
   },
   {
    "duration": 0,
    "start_time": "2023-04-06T12:27:13.133Z"
   },
   {
    "duration": 29053,
    "start_time": "2023-04-06T12:28:10.369Z"
   },
   {
    "duration": 4007,
    "start_time": "2023-04-06T12:28:39.425Z"
   },
   {
    "duration": 1028,
    "start_time": "2023-04-06T12:28:43.434Z"
   },
   {
    "duration": 160,
    "start_time": "2023-04-06T12:28:44.464Z"
   },
   {
    "duration": 84,
    "start_time": "2023-04-06T12:28:44.627Z"
   },
   {
    "duration": 130,
    "start_time": "2023-04-06T12:28:44.713Z"
   },
   {
    "duration": 18572,
    "start_time": "2023-04-06T12:28:44.845Z"
   },
   {
    "duration": 23,
    "start_time": "2023-04-06T12:29:03.419Z"
   },
   {
    "duration": 355,
    "start_time": "2023-04-06T12:29:03.444Z"
   },
   {
    "duration": 341,
    "start_time": "2023-04-06T12:29:03.802Z"
   },
   {
    "duration": 505,
    "start_time": "2023-04-06T12:29:04.148Z"
   },
   {
    "duration": 44,
    "start_time": "2023-04-06T12:29:04.665Z"
   },
   {
    "duration": 19647,
    "start_time": "2023-04-06T12:29:04.712Z"
   },
   {
    "duration": 1586,
    "start_time": "2023-04-06T12:29:24.363Z"
   },
   {
    "duration": 172,
    "start_time": "2023-04-06T12:29:25.951Z"
   },
   {
    "duration": 109,
    "start_time": "2023-04-06T12:29:26.125Z"
   },
   {
    "duration": 184,
    "start_time": "2023-04-06T12:29:26.236Z"
   },
   {
    "duration": 469,
    "start_time": "2023-04-06T13:53:33.022Z"
   },
   {
    "duration": 13787,
    "start_time": "2023-04-06T13:53:42.124Z"
   },
   {
    "duration": 1384,
    "start_time": "2023-04-06T13:53:55.914Z"
   },
   {
    "duration": 393,
    "start_time": "2023-04-06T13:54:28.348Z"
   },
   {
    "duration": 67,
    "start_time": "2023-04-06T13:54:35.730Z"
   },
   {
    "duration": 8,
    "start_time": "2023-04-06T13:54:38.987Z"
   },
   {
    "duration": 24,
    "start_time": "2023-04-06T13:54:39.875Z"
   },
   {
    "duration": 9358,
    "start_time": "2023-04-06T13:54:42.598Z"
   },
   {
    "duration": 18,
    "start_time": "2023-04-06T14:03:18.793Z"
   },
   {
    "duration": 20,
    "start_time": "2023-04-06T14:03:29.841Z"
   },
   {
    "duration": 20,
    "start_time": "2023-04-06T14:04:54.546Z"
   },
   {
    "duration": 14,
    "start_time": "2023-04-06T14:05:25.496Z"
   },
   {
    "duration": 10,
    "start_time": "2023-04-06T14:05:28.018Z"
   },
   {
    "duration": 32,
    "start_time": "2023-04-06T14:05:29.617Z"
   },
   {
    "duration": 2984,
    "start_time": "2023-04-06T17:10:31.046Z"
   },
   {
    "duration": 4,
    "start_time": "2023-04-06T17:10:34.033Z"
   },
   {
    "duration": 149,
    "start_time": "2023-04-06T17:10:34.039Z"
   },
   {
    "duration": 91,
    "start_time": "2023-04-06T17:10:34.190Z"
   },
   {
    "duration": 8,
    "start_time": "2023-04-06T17:10:34.284Z"
   },
   {
    "duration": 57,
    "start_time": "2023-04-06T17:10:34.294Z"
   },
   {
    "duration": 10117,
    "start_time": "2023-04-06T17:10:34.353Z"
   },
   {
    "duration": 20,
    "start_time": "2023-04-06T17:10:44.472Z"
   },
   {
    "duration": 41,
    "start_time": "2023-04-06T17:10:44.495Z"
   },
   {
    "duration": 35,
    "start_time": "2023-04-06T17:10:44.538Z"
   },
   {
    "duration": 73,
    "start_time": "2023-04-06T17:10:44.574Z"
   },
   {
    "duration": 155,
    "start_time": "2023-04-06T17:10:44.649Z"
   },
   {
    "duration": 12,
    "start_time": "2023-04-06T17:10:44.806Z"
   },
   {
    "duration": 10459,
    "start_time": "2023-04-06T17:10:44.821Z"
   },
   {
    "duration": 244,
    "start_time": "2023-04-06T18:25:59.623Z"
   },
   {
    "duration": 123,
    "start_time": "2023-04-06T18:26:29.383Z"
   },
   {
    "duration": 44,
    "start_time": "2023-04-06T18:26:39.683Z"
   },
   {
    "duration": 47,
    "start_time": "2023-04-06T18:26:50.590Z"
   },
   {
    "duration": 46,
    "start_time": "2023-04-06T18:27:07.606Z"
   },
   {
    "duration": 70,
    "start_time": "2023-04-06T18:27:16.161Z"
   },
   {
    "duration": 46,
    "start_time": "2023-04-06T18:27:27.636Z"
   },
   {
    "duration": 45,
    "start_time": "2023-04-06T18:28:28.376Z"
   },
   {
    "duration": 46,
    "start_time": "2023-04-06T18:29:02.285Z"
   },
   {
    "duration": 50,
    "start_time": "2023-04-06T18:29:29.707Z"
   },
   {
    "duration": 26,
    "start_time": "2023-04-06T18:31:32.081Z"
   },
   {
    "duration": 29,
    "start_time": "2023-04-06T18:34:15.742Z"
   },
   {
    "duration": 26,
    "start_time": "2023-04-06T18:34:24.482Z"
   },
   {
    "duration": 18,
    "start_time": "2023-04-06T18:34:35.383Z"
   },
   {
    "duration": 56,
    "start_time": "2023-04-06T18:35:45.981Z"
   },
   {
    "duration": 45,
    "start_time": "2023-04-06T18:35:56.183Z"
   },
   {
    "duration": 47,
    "start_time": "2023-04-06T18:36:09.014Z"
   },
   {
    "duration": 46,
    "start_time": "2023-04-06T18:36:48.397Z"
   },
   {
    "duration": 47,
    "start_time": "2023-04-06T18:36:59.085Z"
   },
   {
    "duration": 46,
    "start_time": "2023-04-06T18:37:31.765Z"
   },
   {
    "duration": 47,
    "start_time": "2023-04-06T18:37:40.716Z"
   },
   {
    "duration": 59,
    "start_time": "2023-04-06T18:38:28.167Z"
   },
   {
    "duration": 46,
    "start_time": "2023-04-06T18:38:38.395Z"
   },
   {
    "duration": 47,
    "start_time": "2023-04-06T18:40:16.994Z"
   },
   {
    "duration": 152,
    "start_time": "2023-04-06T18:44:02.578Z"
   },
   {
    "duration": 47,
    "start_time": "2023-04-06T18:44:14.911Z"
   },
   {
    "duration": 48,
    "start_time": "2023-04-06T18:44:24.311Z"
   },
   {
    "duration": 53,
    "start_time": "2023-04-06T18:44:31.319Z"
   },
   {
    "duration": 49,
    "start_time": "2023-04-06T18:44:47.726Z"
   },
   {
    "duration": 59,
    "start_time": "2023-04-06T18:45:06.951Z"
   },
   {
    "duration": 52,
    "start_time": "2023-04-06T18:45:25.718Z"
   },
   {
    "duration": 2570,
    "start_time": "2023-04-06T22:28:10.184Z"
   },
   {
    "duration": 2784,
    "start_time": "2023-04-06T22:28:12.756Z"
   },
   {
    "duration": 97,
    "start_time": "2023-04-06T22:28:15.542Z"
   },
   {
    "duration": 67,
    "start_time": "2023-04-06T22:28:15.641Z"
   },
   {
    "duration": 10,
    "start_time": "2023-04-06T22:28:15.709Z"
   },
   {
    "duration": 31,
    "start_time": "2023-04-06T22:28:15.721Z"
   },
   {
    "duration": 10685,
    "start_time": "2023-04-06T22:28:15.754Z"
   },
   {
    "duration": 22,
    "start_time": "2023-04-06T22:28:26.441Z"
   },
   {
    "duration": 8,
    "start_time": "2023-04-06T22:28:26.465Z"
   },
   {
    "duration": 68,
    "start_time": "2023-04-06T22:28:26.476Z"
   },
   {
    "duration": 76,
    "start_time": "2023-04-06T22:28:26.545Z"
   },
   {
    "duration": 161,
    "start_time": "2023-04-06T22:28:26.623Z"
   },
   {
    "duration": 13,
    "start_time": "2023-04-06T22:28:26.785Z"
   },
   {
    "duration": 11783,
    "start_time": "2023-04-06T22:28:26.800Z"
   },
   {
    "duration": 349,
    "start_time": "2023-04-06T22:28:38.584Z"
   },
   {
    "duration": 107,
    "start_time": "2023-04-06T22:28:38.934Z"
   },
   {
    "duration": 90,
    "start_time": "2023-04-06T22:28:39.042Z"
   },
   {
    "duration": 610,
    "start_time": "2023-04-06T22:28:39.134Z"
   },
   {
    "duration": 652,
    "start_time": "2023-04-14T15:11:41.644Z"
   },
   {
    "duration": 0,
    "start_time": "2023-04-14T15:11:42.299Z"
   },
   {
    "duration": 0,
    "start_time": "2023-04-14T15:11:42.301Z"
   },
   {
    "duration": 0,
    "start_time": "2023-04-14T15:11:42.302Z"
   },
   {
    "duration": 0,
    "start_time": "2023-04-14T15:11:42.303Z"
   },
   {
    "duration": 0,
    "start_time": "2023-04-14T15:11:42.305Z"
   },
   {
    "duration": 0,
    "start_time": "2023-04-14T15:11:42.306Z"
   },
   {
    "duration": 0,
    "start_time": "2023-04-14T15:11:42.307Z"
   },
   {
    "duration": 0,
    "start_time": "2023-04-14T15:11:42.308Z"
   },
   {
    "duration": 0,
    "start_time": "2023-04-14T15:11:42.310Z"
   },
   {
    "duration": 0,
    "start_time": "2023-04-14T15:11:42.311Z"
   },
   {
    "duration": 0,
    "start_time": "2023-04-14T15:11:42.312Z"
   },
   {
    "duration": 0,
    "start_time": "2023-04-14T15:11:42.314Z"
   },
   {
    "duration": 0,
    "start_time": "2023-04-14T15:11:42.318Z"
   },
   {
    "duration": 0,
    "start_time": "2023-04-14T15:11:42.319Z"
   },
   {
    "duration": 0,
    "start_time": "2023-04-14T15:11:42.320Z"
   },
   {
    "duration": 0,
    "start_time": "2023-04-14T15:11:42.321Z"
   },
   {
    "duration": 0,
    "start_time": "2023-04-14T15:11:42.323Z"
   },
   {
    "duration": 0,
    "start_time": "2023-04-14T15:11:42.325Z"
   },
   {
    "duration": 0,
    "start_time": "2023-04-14T15:11:42.326Z"
   },
   {
    "duration": 0,
    "start_time": "2023-04-14T15:11:42.327Z"
   },
   {
    "duration": 0,
    "start_time": "2023-04-14T15:11:42.328Z"
   },
   {
    "duration": 0,
    "start_time": "2023-04-14T15:11:42.330Z"
   },
   {
    "duration": 0,
    "start_time": "2023-04-14T15:11:42.331Z"
   },
   {
    "duration": 0,
    "start_time": "2023-04-14T15:11:42.333Z"
   },
   {
    "duration": 0,
    "start_time": "2023-04-14T15:11:42.334Z"
   },
   {
    "duration": 0,
    "start_time": "2023-04-14T15:11:42.335Z"
   },
   {
    "duration": 0,
    "start_time": "2023-04-14T15:11:42.337Z"
   },
   {
    "duration": 0,
    "start_time": "2023-04-14T15:11:42.338Z"
   },
   {
    "duration": 0,
    "start_time": "2023-04-14T15:11:42.339Z"
   },
   {
    "duration": 0,
    "start_time": "2023-04-14T15:11:42.341Z"
   },
   {
    "duration": 0,
    "start_time": "2023-04-14T15:11:42.342Z"
   },
   {
    "duration": 0,
    "start_time": "2023-04-14T15:11:42.343Z"
   },
   {
    "duration": 20906,
    "start_time": "2023-04-14T15:15:36.354Z"
   },
   {
    "duration": 4936,
    "start_time": "2023-04-14T15:15:57.263Z"
   },
   {
    "duration": 431,
    "start_time": "2023-04-14T15:16:02.215Z"
   },
   {
    "duration": 81,
    "start_time": "2023-04-14T15:16:02.648Z"
   },
   {
    "duration": 7,
    "start_time": "2023-04-14T15:16:02.730Z"
   },
   {
    "duration": 54,
    "start_time": "2023-04-14T15:16:02.739Z"
   },
   {
    "duration": 11034,
    "start_time": "2023-04-14T15:16:02.797Z"
   },
   {
    "duration": 67,
    "start_time": "2023-04-14T15:16:13.833Z"
   },
   {
    "duration": 10,
    "start_time": "2023-04-14T15:16:13.902Z"
   },
   {
    "duration": 42,
    "start_time": "2023-04-14T15:16:13.914Z"
   },
   {
    "duration": 87,
    "start_time": "2023-04-14T15:16:13.958Z"
   },
   {
    "duration": 9,
    "start_time": "2023-04-14T15:16:14.047Z"
   },
   {
    "duration": 225,
    "start_time": "2023-04-14T15:16:14.058Z"
   },
   {
    "duration": 16,
    "start_time": "2023-04-14T15:16:14.285Z"
   },
   {
    "duration": 18227,
    "start_time": "2023-04-14T15:16:14.304Z"
   },
   {
    "duration": 478,
    "start_time": "2023-04-14T15:16:32.534Z"
   },
   {
    "duration": 116,
    "start_time": "2023-04-14T15:16:33.014Z"
   },
   {
    "duration": 167,
    "start_time": "2023-04-14T15:16:33.132Z"
   },
   {
    "duration": 145,
    "start_time": "2023-04-14T15:16:33.306Z"
   },
   {
    "duration": 5,
    "start_time": "2023-04-14T15:16:33.453Z"
   },
   {
    "duration": 21,
    "start_time": "2023-04-14T15:16:33.460Z"
   },
   {
    "duration": 23,
    "start_time": "2023-04-14T15:16:33.489Z"
   },
   {
    "duration": 12,
    "start_time": "2023-04-14T15:16:33.514Z"
   },
   {
    "duration": 262,
    "start_time": "2023-04-14T15:16:33.528Z"
   },
   {
    "duration": 0,
    "start_time": "2023-04-14T15:16:33.792Z"
   },
   {
    "duration": 0,
    "start_time": "2023-04-14T15:16:33.794Z"
   },
   {
    "duration": 0,
    "start_time": "2023-04-14T15:16:33.797Z"
   },
   {
    "duration": 0,
    "start_time": "2023-04-14T15:16:33.801Z"
   },
   {
    "duration": 0,
    "start_time": "2023-04-14T15:16:33.802Z"
   },
   {
    "duration": 0,
    "start_time": "2023-04-14T15:16:33.803Z"
   },
   {
    "duration": 0,
    "start_time": "2023-04-14T15:16:33.804Z"
   },
   {
    "duration": 0,
    "start_time": "2023-04-14T15:16:33.804Z"
   },
   {
    "duration": 0,
    "start_time": "2023-04-14T15:16:33.805Z"
   },
   {
    "duration": 0,
    "start_time": "2023-04-14T15:16:33.806Z"
   },
   {
    "duration": 2689,
    "start_time": "2023-04-14T15:26:48.936Z"
   },
   {
    "duration": 3107,
    "start_time": "2023-04-14T15:26:51.627Z"
   },
   {
    "duration": 99,
    "start_time": "2023-04-14T15:26:54.736Z"
   },
   {
    "duration": 81,
    "start_time": "2023-04-14T15:26:54.837Z"
   },
   {
    "duration": 10,
    "start_time": "2023-04-14T15:26:54.920Z"
   },
   {
    "duration": 41,
    "start_time": "2023-04-14T15:26:54.932Z"
   },
   {
    "duration": 10944,
    "start_time": "2023-04-14T15:26:54.988Z"
   },
   {
    "duration": 56,
    "start_time": "2023-04-14T15:27:05.934Z"
   },
   {
    "duration": 8,
    "start_time": "2023-04-14T15:27:05.992Z"
   },
   {
    "duration": 37,
    "start_time": "2023-04-14T15:27:06.004Z"
   },
   {
    "duration": 182,
    "start_time": "2023-04-14T15:27:06.043Z"
   },
   {
    "duration": 10,
    "start_time": "2023-04-14T15:27:06.227Z"
   },
   {
    "duration": 453,
    "start_time": "2023-04-14T15:27:06.239Z"
   },
   {
    "duration": 7,
    "start_time": "2023-04-14T15:27:06.694Z"
   },
   {
    "duration": 16886,
    "start_time": "2023-04-14T15:27:06.703Z"
   },
   {
    "duration": 419,
    "start_time": "2023-04-14T15:27:23.591Z"
   },
   {
    "duration": 108,
    "start_time": "2023-04-14T15:27:24.012Z"
   },
   {
    "duration": 93,
    "start_time": "2023-04-14T15:27:24.121Z"
   },
   {
    "duration": 115,
    "start_time": "2023-04-14T15:27:24.215Z"
   },
   {
    "duration": 4,
    "start_time": "2023-04-14T15:27:24.332Z"
   },
   {
    "duration": 35,
    "start_time": "2023-04-14T15:27:24.338Z"
   },
   {
    "duration": 33,
    "start_time": "2023-04-14T15:27:24.375Z"
   },
   {
    "duration": 6,
    "start_time": "2023-04-14T15:27:24.409Z"
   },
   {
    "duration": 210,
    "start_time": "2023-04-14T15:27:24.417Z"
   },
   {
    "duration": 0,
    "start_time": "2023-04-14T15:27:24.629Z"
   },
   {
    "duration": 0,
    "start_time": "2023-04-14T15:27:24.630Z"
   },
   {
    "duration": 0,
    "start_time": "2023-04-14T15:27:24.631Z"
   },
   {
    "duration": 0,
    "start_time": "2023-04-14T15:27:24.632Z"
   },
   {
    "duration": 0,
    "start_time": "2023-04-14T15:27:24.633Z"
   },
   {
    "duration": 0,
    "start_time": "2023-04-14T15:27:24.634Z"
   },
   {
    "duration": 0,
    "start_time": "2023-04-14T15:27:24.635Z"
   },
   {
    "duration": 0,
    "start_time": "2023-04-14T15:27:24.636Z"
   },
   {
    "duration": 0,
    "start_time": "2023-04-14T15:27:24.637Z"
   },
   {
    "duration": 0,
    "start_time": "2023-04-14T15:27:24.638Z"
   },
   {
    "duration": 4,
    "start_time": "2023-04-14T15:28:49.764Z"
   },
   {
    "duration": 19,
    "start_time": "2023-04-14T15:28:50.536Z"
   },
   {
    "duration": 16,
    "start_time": "2023-04-14T15:36:31.687Z"
   },
   {
    "duration": 2793,
    "start_time": "2023-04-14T15:36:38.649Z"
   },
   {
    "duration": 3213,
    "start_time": "2023-04-14T15:36:41.445Z"
   },
   {
    "duration": 98,
    "start_time": "2023-04-14T15:36:44.660Z"
   },
   {
    "duration": 85,
    "start_time": "2023-04-14T15:36:44.760Z"
   },
   {
    "duration": 8,
    "start_time": "2023-04-14T15:36:44.847Z"
   },
   {
    "duration": 51,
    "start_time": "2023-04-14T15:36:44.857Z"
   },
   {
    "duration": 10494,
    "start_time": "2023-04-14T15:36:44.909Z"
   },
   {
    "duration": 22,
    "start_time": "2023-04-14T15:36:55.405Z"
   },
   {
    "duration": 18,
    "start_time": "2023-04-14T15:36:55.429Z"
   },
   {
    "duration": 58,
    "start_time": "2023-04-14T15:36:55.451Z"
   },
   {
    "duration": 106,
    "start_time": "2023-04-14T15:36:55.511Z"
   },
   {
    "duration": 13,
    "start_time": "2023-04-14T15:36:55.619Z"
   },
   {
    "duration": 394,
    "start_time": "2023-04-14T15:36:55.634Z"
   },
   {
    "duration": 58,
    "start_time": "2023-04-14T15:36:56.030Z"
   },
   {
    "duration": 17758,
    "start_time": "2023-04-14T15:36:56.090Z"
   },
   {
    "duration": 392,
    "start_time": "2023-04-14T15:37:13.849Z"
   },
   {
    "duration": 110,
    "start_time": "2023-04-14T15:37:14.287Z"
   },
   {
    "duration": 116,
    "start_time": "2023-04-14T15:37:14.398Z"
   },
   {
    "duration": 114,
    "start_time": "2023-04-14T15:37:14.515Z"
   },
   {
    "duration": 4,
    "start_time": "2023-04-14T15:37:14.631Z"
   },
   {
    "duration": 16,
    "start_time": "2023-04-14T15:37:14.637Z"
   },
   {
    "duration": 42,
    "start_time": "2023-04-14T15:37:14.655Z"
   },
   {
    "duration": 9,
    "start_time": "2023-04-14T15:37:14.698Z"
   },
   {
    "duration": 241,
    "start_time": "2023-04-14T15:37:14.710Z"
   },
   {
    "duration": 0,
    "start_time": "2023-04-14T15:37:14.953Z"
   },
   {
    "duration": 0,
    "start_time": "2023-04-14T15:37:14.954Z"
   },
   {
    "duration": 0,
    "start_time": "2023-04-14T15:37:14.955Z"
   },
   {
    "duration": 0,
    "start_time": "2023-04-14T15:37:14.957Z"
   },
   {
    "duration": 0,
    "start_time": "2023-04-14T15:37:14.958Z"
   },
   {
    "duration": 0,
    "start_time": "2023-04-14T15:37:14.959Z"
   },
   {
    "duration": 0,
    "start_time": "2023-04-14T15:37:14.960Z"
   },
   {
    "duration": 0,
    "start_time": "2023-04-14T15:37:14.961Z"
   },
   {
    "duration": 0,
    "start_time": "2023-04-14T15:37:14.962Z"
   },
   {
    "duration": 0,
    "start_time": "2023-04-14T15:37:14.963Z"
   },
   {
    "duration": 15445,
    "start_time": "2023-04-14T15:48:05.259Z"
   },
   {
    "duration": 2136,
    "start_time": "2023-04-14T15:48:20.706Z"
   },
   {
    "duration": 367,
    "start_time": "2023-04-14T15:48:22.844Z"
   },
   {
    "duration": 61,
    "start_time": "2023-04-14T15:48:23.213Z"
   },
   {
    "duration": 8,
    "start_time": "2023-04-14T15:48:23.275Z"
   },
   {
    "duration": 37,
    "start_time": "2023-04-14T15:48:23.284Z"
   },
   {
    "duration": 9894,
    "start_time": "2023-04-14T15:48:23.322Z"
   },
   {
    "duration": 25,
    "start_time": "2023-04-14T15:48:33.218Z"
   },
   {
    "duration": 14,
    "start_time": "2023-04-14T15:48:33.245Z"
   },
   {
    "duration": 51,
    "start_time": "2023-04-14T15:48:33.261Z"
   },
   {
    "duration": 84,
    "start_time": "2023-04-14T15:48:33.314Z"
   },
   {
    "duration": 9,
    "start_time": "2023-04-14T15:48:33.400Z"
   },
   {
    "duration": 404,
    "start_time": "2023-04-14T15:48:33.410Z"
   },
   {
    "duration": 7,
    "start_time": "2023-04-14T15:48:33.816Z"
   },
   {
    "duration": 15130,
    "start_time": "2023-04-14T15:48:33.824Z"
   },
   {
    "duration": 208,
    "start_time": "2023-04-14T15:48:48.955Z"
   },
   {
    "duration": 303,
    "start_time": "2023-04-14T15:48:49.164Z"
   },
   {
    "duration": 211,
    "start_time": "2023-04-14T15:48:49.469Z"
   },
   {
    "duration": 394,
    "start_time": "2023-04-14T15:48:49.682Z"
   },
   {
    "duration": 5,
    "start_time": "2023-04-14T15:48:50.077Z"
   },
   {
    "duration": 25,
    "start_time": "2023-04-14T15:48:50.084Z"
   },
   {
    "duration": 9,
    "start_time": "2023-04-14T15:48:50.110Z"
   },
   {
    "duration": 18,
    "start_time": "2023-04-14T15:48:50.120Z"
   },
   {
    "duration": 6,
    "start_time": "2023-04-14T15:48:58.143Z"
   },
   {
    "duration": 201,
    "start_time": "2023-04-14T15:48:59.711Z"
   },
   {
    "duration": 235,
    "start_time": "2023-04-14T15:50:11.525Z"
   },
   {
    "duration": 80,
    "start_time": "2023-04-14T15:52:58.193Z"
   },
   {
    "duration": 6635,
    "start_time": "2023-04-14T15:53:08.474Z"
   },
   {
    "duration": 2273,
    "start_time": "2023-04-14T15:53:16.282Z"
   },
   {
    "duration": 10,
    "start_time": "2023-04-14T15:53:36.218Z"
   },
   {
    "duration": 19,
    "start_time": "2023-04-14T15:53:37.626Z"
   },
   {
    "duration": 2220,
    "start_time": "2023-04-14T15:54:53.233Z"
   },
   {
    "duration": 2051,
    "start_time": "2023-04-14T15:54:55.455Z"
   },
   {
    "duration": 1949,
    "start_time": "2023-04-14T15:54:57.508Z"
   },
   {
    "duration": 93,
    "start_time": "2023-04-14T15:54:59.459Z"
   },
   {
    "duration": 81,
    "start_time": "2023-04-14T15:54:59.554Z"
   },
   {
    "duration": 6,
    "start_time": "2023-04-14T15:54:59.637Z"
   },
   {
    "duration": 29,
    "start_time": "2023-04-14T15:54:59.645Z"
   },
   {
    "duration": 9344,
    "start_time": "2023-04-14T15:54:59.676Z"
   },
   {
    "duration": 20,
    "start_time": "2023-04-14T15:55:09.022Z"
   },
   {
    "duration": 21,
    "start_time": "2023-04-14T15:55:09.043Z"
   },
   {
    "duration": 37,
    "start_time": "2023-04-14T15:55:09.066Z"
   },
   {
    "duration": 60,
    "start_time": "2023-04-14T15:55:09.104Z"
   },
   {
    "duration": 8,
    "start_time": "2023-04-14T15:55:09.165Z"
   },
   {
    "duration": 191,
    "start_time": "2023-04-14T15:55:09.175Z"
   },
   {
    "duration": 7,
    "start_time": "2023-04-14T15:55:09.367Z"
   },
   {
    "duration": 14762,
    "start_time": "2023-04-14T15:55:09.376Z"
   },
   {
    "duration": 199,
    "start_time": "2023-04-14T15:55:24.139Z"
   },
   {
    "duration": 96,
    "start_time": "2023-04-14T15:55:24.339Z"
   },
   {
    "duration": 47,
    "start_time": "2023-04-14T15:55:24.437Z"
   },
   {
    "duration": 123,
    "start_time": "2023-04-14T15:55:24.486Z"
   },
   {
    "duration": 4,
    "start_time": "2023-04-14T15:55:24.611Z"
   },
   {
    "duration": 31,
    "start_time": "2023-04-14T15:55:24.616Z"
   },
   {
    "duration": 12,
    "start_time": "2023-04-14T15:55:24.649Z"
   },
   {
    "duration": 339,
    "start_time": "2023-04-14T15:55:24.663Z"
   },
   {
    "duration": 64,
    "start_time": "2023-04-14T15:55:39.112Z"
   },
   {
    "duration": 37,
    "start_time": "2023-04-14T15:55:44.135Z"
   },
   {
    "duration": 2419,
    "start_time": "2023-04-14T16:04:38.445Z"
   },
   {
    "duration": 2231,
    "start_time": "2023-04-14T16:04:40.866Z"
   },
   {
    "duration": 5,
    "start_time": "2023-04-14T16:04:43.099Z"
   },
   {
    "duration": 106,
    "start_time": "2023-04-14T16:04:43.106Z"
   },
   {
    "duration": 67,
    "start_time": "2023-04-14T16:04:43.214Z"
   },
   {
    "duration": 8,
    "start_time": "2023-04-14T16:04:43.283Z"
   },
   {
    "duration": 48,
    "start_time": "2023-04-14T16:04:43.293Z"
   },
   {
    "duration": 9453,
    "start_time": "2023-04-14T16:04:43.343Z"
   },
   {
    "duration": 41,
    "start_time": "2023-04-14T16:04:52.798Z"
   },
   {
    "duration": 39,
    "start_time": "2023-04-14T16:04:52.841Z"
   },
   {
    "duration": 42,
    "start_time": "2023-04-14T16:04:52.882Z"
   },
   {
    "duration": 61,
    "start_time": "2023-04-14T16:04:52.926Z"
   },
   {
    "duration": 12,
    "start_time": "2023-04-14T16:04:52.988Z"
   },
   {
    "duration": 201,
    "start_time": "2023-04-14T16:04:53.002Z"
   },
   {
    "duration": 7,
    "start_time": "2023-04-14T16:04:53.204Z"
   },
   {
    "duration": 15570,
    "start_time": "2023-04-14T16:04:53.212Z"
   },
   {
    "duration": 84,
    "start_time": "2023-04-14T16:05:08.784Z"
   },
   {
    "duration": 109,
    "start_time": "2023-04-14T16:05:08.870Z"
   },
   {
    "duration": 70,
    "start_time": "2023-04-14T16:05:08.981Z"
   },
   {
    "duration": 53,
    "start_time": "2023-04-14T16:05:09.052Z"
   },
   {
    "duration": 4,
    "start_time": "2023-04-14T16:05:09.107Z"
   },
   {
    "duration": 14,
    "start_time": "2023-04-14T16:05:09.135Z"
   },
   {
    "duration": 14,
    "start_time": "2023-04-14T16:05:09.151Z"
   },
   {
    "duration": 10,
    "start_time": "2023-04-14T16:05:09.166Z"
   },
   {
    "duration": 69,
    "start_time": "2023-04-14T16:05:09.178Z"
   },
   {
    "duration": 24096,
    "start_time": "2023-04-14T16:05:09.249Z"
   },
   {
    "duration": 788,
    "start_time": "2023-04-14T16:05:33.348Z"
   },
   {
    "duration": 290722,
    "start_time": "2023-04-14T16:05:34.139Z"
   },
   {
    "duration": 111,
    "start_time": "2023-04-14T16:10:24.863Z"
   },
   {
    "duration": 683683,
    "start_time": "2023-04-14T16:10:24.975Z"
   },
   {
    "duration": 54,
    "start_time": "2023-04-14T16:21:48.659Z"
   },
   {
    "duration": 25,
    "start_time": "2023-04-14T16:21:48.714Z"
   },
   {
    "duration": 34,
    "start_time": "2023-04-14T16:21:48.741Z"
   },
   {
    "duration": 24,
    "start_time": "2023-04-14T16:21:48.776Z"
   },
   {
    "duration": 65,
    "start_time": "2023-04-14T16:21:48.802Z"
   },
   {
    "duration": 16161,
    "start_time": "2023-04-15T15:04:04.283Z"
   },
   {
    "duration": 11298,
    "start_time": "2023-04-15T15:04:20.446Z"
   },
   {
    "duration": 4863,
    "start_time": "2023-04-15T15:04:31.745Z"
   },
   {
    "duration": 513,
    "start_time": "2023-04-15T15:04:36.610Z"
   },
   {
    "duration": 122,
    "start_time": "2023-04-15T15:04:37.126Z"
   },
   {
    "duration": 11,
    "start_time": "2023-04-15T15:04:37.250Z"
   },
   {
    "duration": 54,
    "start_time": "2023-04-15T15:04:37.263Z"
   },
   {
    "duration": 11383,
    "start_time": "2023-04-15T15:04:37.319Z"
   },
   {
    "duration": 52,
    "start_time": "2023-04-15T15:04:48.703Z"
   },
   {
    "duration": 30,
    "start_time": "2023-04-15T15:04:48.757Z"
   },
   {
    "duration": 40,
    "start_time": "2023-04-15T15:04:48.789Z"
   },
   {
    "duration": 79,
    "start_time": "2023-04-15T15:04:48.837Z"
   },
   {
    "duration": 9,
    "start_time": "2023-04-15T15:04:48.917Z"
   },
   {
    "duration": 241,
    "start_time": "2023-04-15T15:04:48.928Z"
   },
   {
    "duration": 8,
    "start_time": "2023-04-15T15:04:49.170Z"
   },
   {
    "duration": 16913,
    "start_time": "2023-04-15T15:04:49.180Z"
   },
   {
    "duration": 850,
    "start_time": "2023-04-15T15:05:06.095Z"
   },
   {
    "duration": 131,
    "start_time": "2023-04-15T15:05:06.951Z"
   },
   {
    "duration": 94,
    "start_time": "2023-04-15T15:05:07.084Z"
   },
   {
    "duration": 122,
    "start_time": "2023-04-15T15:05:07.179Z"
   },
   {
    "duration": 5,
    "start_time": "2023-04-15T15:05:07.303Z"
   },
   {
    "duration": 41,
    "start_time": "2023-04-15T15:05:07.309Z"
   },
   {
    "duration": 31,
    "start_time": "2023-04-15T15:05:07.352Z"
   },
   {
    "duration": 12,
    "start_time": "2023-04-15T15:05:07.385Z"
   },
   {
    "duration": 65,
    "start_time": "2023-04-15T15:05:07.399Z"
   },
   {
    "duration": 72889,
    "start_time": "2023-04-15T15:05:07.467Z"
   },
   {
    "duration": 394,
    "start_time": "2023-04-15T15:06:20.362Z"
   },
   {
    "duration": 321662,
    "start_time": "2023-04-15T15:06:20.762Z"
   },
   {
    "duration": 117,
    "start_time": "2023-04-15T15:11:42.426Z"
   },
   {
    "duration": 724706,
    "start_time": "2023-04-15T15:11:42.547Z"
   },
   {
    "duration": 113,
    "start_time": "2023-04-15T15:23:47.255Z"
   },
   {
    "duration": 13,
    "start_time": "2023-04-15T15:23:47.371Z"
   },
   {
    "duration": 85,
    "start_time": "2023-04-15T15:23:47.385Z"
   },
   {
    "duration": 131,
    "start_time": "2023-04-15T15:23:47.472Z"
   },
   {
    "duration": 82,
    "start_time": "2023-04-15T15:23:47.605Z"
   },
   {
    "duration": 18490,
    "start_time": "2023-04-16T10:28:00.531Z"
   },
   {
    "duration": 9270,
    "start_time": "2023-04-16T10:28:19.023Z"
   },
   {
    "duration": 2954,
    "start_time": "2023-04-16T10:28:28.297Z"
   },
   {
    "duration": 484,
    "start_time": "2023-04-16T10:28:31.258Z"
   },
   {
    "duration": 92,
    "start_time": "2023-04-16T10:28:31.744Z"
   },
   {
    "duration": 24,
    "start_time": "2023-04-16T10:28:31.838Z"
   },
   {
    "duration": 87,
    "start_time": "2023-04-16T10:28:31.863Z"
   },
   {
    "duration": 11680,
    "start_time": "2023-04-16T10:28:31.952Z"
   },
   {
    "duration": 41,
    "start_time": "2023-04-16T10:28:43.634Z"
   },
   {
    "duration": 6,
    "start_time": "2023-04-16T10:28:43.680Z"
   },
   {
    "duration": 77,
    "start_time": "2023-04-16T10:28:43.690Z"
   },
   {
    "duration": 95,
    "start_time": "2023-04-16T10:28:43.769Z"
   },
   {
    "duration": 12,
    "start_time": "2023-04-16T10:28:43.865Z"
   },
   {
    "duration": 535,
    "start_time": "2023-04-16T10:28:43.885Z"
   },
   {
    "duration": 8,
    "start_time": "2023-04-16T10:28:44.422Z"
   },
   {
    "duration": 17863,
    "start_time": "2023-04-16T10:28:44.432Z"
   },
   {
    "duration": 267,
    "start_time": "2023-04-16T10:29:02.297Z"
   },
   {
    "duration": 135,
    "start_time": "2023-04-16T10:29:02.569Z"
   },
   {
    "duration": 94,
    "start_time": "2023-04-16T10:29:02.706Z"
   },
   {
    "duration": 120,
    "start_time": "2023-04-16T10:29:02.802Z"
   },
   {
    "duration": 5,
    "start_time": "2023-04-16T10:29:02.925Z"
   },
   {
    "duration": 45,
    "start_time": "2023-04-16T10:29:02.931Z"
   },
   {
    "duration": 50,
    "start_time": "2023-04-16T10:29:02.979Z"
   },
   {
    "duration": 20,
    "start_time": "2023-04-16T10:29:03.031Z"
   },
   {
    "duration": 74,
    "start_time": "2023-04-16T10:29:03.053Z"
   },
   {
    "duration": 89659,
    "start_time": "2023-04-16T10:29:03.129Z"
   },
   {
    "duration": 462,
    "start_time": "2023-04-16T10:30:32.790Z"
   },
   {
    "duration": 2620894,
    "start_time": "2023-04-16T10:33:59.191Z"
   },
   {
    "duration": 144,
    "start_time": "2023-04-16T11:17:40.087Z"
   },
   {
    "duration": 110,
    "start_time": "2023-04-16T11:17:40.233Z"
   },
   {
    "duration": 346,
    "start_time": "2023-04-16T11:21:48.419Z"
   },
   {
    "duration": 587192,
    "start_time": "2023-04-16T11:22:03.486Z"
   },
   {
    "duration": 107,
    "start_time": "2023-04-16T11:33:25.927Z"
   },
   {
    "duration": 171,
    "start_time": "2023-04-16T11:33:47.554Z"
   },
   {
    "duration": 149,
    "start_time": "2023-04-16T11:36:10.703Z"
   },
   {
    "duration": 18,
    "start_time": "2023-04-16T11:36:26.133Z"
   },
   {
    "duration": 178,
    "start_time": "2023-04-16T11:36:55.988Z"
   },
   {
    "duration": 67,
    "start_time": "2023-04-16T11:39:08.002Z"
   },
   {
    "duration": 119964,
    "start_time": "2023-04-16T11:49:00.813Z"
   },
   {
    "duration": 3036,
    "start_time": "2023-04-16T12:15:42.146Z"
   },
   {
    "duration": 2628,
    "start_time": "2023-04-16T12:15:45.185Z"
   },
   {
    "duration": 6,
    "start_time": "2023-04-16T12:15:47.815Z"
   },
   {
    "duration": 129,
    "start_time": "2023-04-16T12:15:47.823Z"
   },
   {
    "duration": 106,
    "start_time": "2023-04-16T12:15:47.954Z"
   },
   {
    "duration": 13,
    "start_time": "2023-04-16T12:15:48.062Z"
   },
   {
    "duration": 56,
    "start_time": "2023-04-16T12:15:48.078Z"
   },
   {
    "duration": 12039,
    "start_time": "2023-04-16T12:15:48.137Z"
   },
   {
    "duration": 42,
    "start_time": "2023-04-16T12:16:00.179Z"
   },
   {
    "duration": 7,
    "start_time": "2023-04-16T12:16:00.223Z"
   },
   {
    "duration": 81,
    "start_time": "2023-04-16T12:16:00.232Z"
   },
   {
    "duration": 114,
    "start_time": "2023-04-16T12:16:00.315Z"
   },
   {
    "duration": 25,
    "start_time": "2023-04-16T12:16:00.431Z"
   },
   {
    "duration": 636,
    "start_time": "2023-04-16T12:16:00.459Z"
   },
   {
    "duration": 10,
    "start_time": "2023-04-16T12:16:01.097Z"
   },
   {
    "duration": 18949,
    "start_time": "2023-04-16T12:16:01.110Z"
   },
   {
    "duration": 114,
    "start_time": "2023-04-16T12:16:20.061Z"
   },
   {
    "duration": 103,
    "start_time": "2023-04-16T12:16:20.177Z"
   },
   {
    "duration": 84,
    "start_time": "2023-04-16T12:16:20.289Z"
   },
   {
    "duration": 89,
    "start_time": "2023-04-16T12:16:20.375Z"
   },
   {
    "duration": 14,
    "start_time": "2023-04-16T12:16:20.467Z"
   },
   {
    "duration": 19,
    "start_time": "2023-04-16T12:16:20.487Z"
   },
   {
    "duration": 14,
    "start_time": "2023-04-16T12:16:20.508Z"
   },
   {
    "duration": 7,
    "start_time": "2023-04-16T12:16:20.524Z"
   },
   {
    "duration": 57,
    "start_time": "2023-04-16T12:16:20.561Z"
   },
   {
    "duration": 129939,
    "start_time": "2023-04-16T12:19:20.221Z"
   },
   {
    "duration": 123367,
    "start_time": "2023-04-16T12:24:33.993Z"
   },
   {
    "duration": 2765402,
    "start_time": "2023-04-16T12:27:28.114Z"
   },
   {
    "duration": 625595,
    "start_time": "2023-04-16T13:13:33.518Z"
   },
   {
    "duration": 4,
    "start_time": "2023-04-16T13:23:59.116Z"
   },
   {
    "duration": 7,
    "start_time": "2023-04-16T13:24:32.817Z"
   },
   {
    "duration": 4,
    "start_time": "2023-04-16T13:24:38.926Z"
   },
   {
    "duration": 25,
    "start_time": "2023-04-16T13:24:51.705Z"
   },
   {
    "duration": 20,
    "start_time": "2023-04-16T13:24:57.455Z"
   },
   {
    "duration": 129,
    "start_time": "2023-04-16T13:27:00.620Z"
   },
   {
    "duration": 69845,
    "start_time": "2023-04-16T13:29:36.919Z"
   },
   {
    "duration": 44,
    "start_time": "2023-04-16T13:32:51.421Z"
   },
   {
    "duration": 44,
    "start_time": "2023-04-16T13:33:00.406Z"
   },
   {
    "duration": 107,
    "start_time": "2023-04-16T13:33:06.568Z"
   },
   {
    "duration": 105,
    "start_time": "2023-04-16T13:33:23.809Z"
   },
   {
    "duration": 7,
    "start_time": "2023-04-16T13:33:42.689Z"
   },
   {
    "duration": 62,
    "start_time": "2023-04-16T13:33:46.211Z"
   }
  ],
  "kernelspec": {
   "display_name": "Python 3 (ipykernel)",
   "language": "python",
   "name": "python3"
  },
  "language_info": {
   "codemirror_mode": {
    "name": "ipython",
    "version": 3
   },
   "file_extension": ".py",
   "mimetype": "text/x-python",
   "name": "python",
   "nbconvert_exporter": "python",
   "pygments_lexer": "ipython3",
   "version": "3.11.4"
  },
  "toc": {
   "base_numbering": 1,
   "nav_menu": {},
   "number_sections": true,
   "sideBar": true,
   "skip_h1_title": true,
   "title_cell": "Table of Contents",
   "title_sidebar": "Contents",
   "toc_cell": false,
   "toc_position": {},
   "toc_section_display": true,
   "toc_window_display": false
  }
 },
 "nbformat": 4,
 "nbformat_minor": 2
}
